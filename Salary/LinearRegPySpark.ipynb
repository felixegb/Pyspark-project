{
 "cells": [
  {
   "cell_type": "code",
   "execution_count": 222,
   "metadata": {},
   "outputs": [],
   "source": [
    "import pyspark\n",
    "import pandas as pd\n",
    "from pyspark.sql import SparkSession\n"
   ]
  },
  {
   "cell_type": "code",
   "execution_count": 223,
   "metadata": {},
   "outputs": [],
   "source": [
    "spark = SparkSession.builder.appName('SesionPractica2').getOrCreate()"
   ]
  },
  {
   "cell_type": "code",
   "execution_count": 224,
   "metadata": {},
   "outputs": [],
   "source": [
    "df_spark = spark.read.csv('MOCK_DATA.csv', header = True, inferSchema=True)"
   ]
  },
  {
   "cell_type": "code",
   "execution_count": 225,
   "metadata": {},
   "outputs": [
    {
     "name": "stdout",
     "output_type": "stream",
     "text": [
      "+---+----------+----+----------+--------------------+------+--------------+-------+\n",
      "| id|first_name| age|    gender|                 job|salary|   credit card|    car|\n",
      "+---+----------+----+----------+--------------------+------+--------------+-------+\n",
      "|  1|    Jaimie|  48|      Male|Payment Adjustmen...| 30550|  instapayment|   NULL|\n",
      "|  2|   Fidelio|NULL|      Male| Marketing Assistant| 35313|        switch|Lincoln|\n",
      "|  3|       Bel|  70|    Female|       Senior Editor| 41395|          NULL|  Volvo|\n",
      "|  4|   Walther|NULL|      Male|Automation Specia...| 39315|china-unionpay|  Mazda|\n",
      "|  5|    Shaine|  46|Non-binary|                NULL| 47798|           jcb|  Honda|\n",
      "+---+----------+----+----------+--------------------+------+--------------+-------+\n",
      "only showing top 5 rows\n",
      "\n"
     ]
    }
   ],
   "source": [
    "df_spark.show(5)"
   ]
  },
  {
   "cell_type": "code",
   "execution_count": 226,
   "metadata": {},
   "outputs": [
    {
     "name": "stdout",
     "output_type": "stream",
     "text": [
      "+---+----------+---+------+--------------------+------+------------+---------+\n",
      "| id|first_name|age|gender|                 job|salary| credit card|      car|\n",
      "+---+----------+---+------+--------------------+------+------------+---------+\n",
      "|  6|    Gerard| 15|  Male| Associate Professor| 21661|  mastercard|    Lexus|\n",
      "|  9| Thorndike| 76|  Male|Chief Design Engi...| 38078|         jcb|    Acura|\n",
      "| 12| Albertina| 44|Female| Account Coordinator| 29211|instapayment|  Porsche|\n",
      "| 19|    Wendie| 36|Female|Desktop Support T...| 48713|         jcb|Chevrolet|\n",
      "| 27|   Emanuel| 22|  Male|  Help Desk Operator| 38050|     maestro|  McLaren|\n",
      "+---+----------+---+------+--------------------+------+------------+---------+\n",
      "only showing top 5 rows\n",
      "\n"
     ]
    }
   ],
   "source": [
    "#drop all row whit null value\n",
    "df_spark.na.drop().show(5)"
   ]
  },
  {
   "cell_type": "code",
   "execution_count": 227,
   "metadata": {},
   "outputs": [
    {
     "name": "stdout",
     "output_type": "stream",
     "text": [
      "+---+----------+----+----------+--------------------+------+--------------+-------+\n",
      "| id|first_name| age|    gender|                 job|salary|   credit card|    car|\n",
      "+---+----------+----+----------+--------------------+------+--------------+-------+\n",
      "|  1|    Jaimie|  48|      Male|Payment Adjustmen...| 30550|  instapayment|   NULL|\n",
      "|  2|   Fidelio|NULL|      Male| Marketing Assistant| 35313|        switch|Lincoln|\n",
      "|  3|       Bel|  70|    Female|       Senior Editor| 41395|          NULL|  Volvo|\n",
      "|  4|   Walther|NULL|      Male|Automation Specia...| 39315|china-unionpay|  Mazda|\n",
      "|  5|    Shaine|  46|Non-binary|                NULL| 47798|           jcb|  Honda|\n",
      "+---+----------+----+----------+--------------------+------+--------------+-------+\n",
      "only showing top 5 rows\n",
      "\n"
     ]
    }
   ],
   "source": [
    "#drop a row whit all values null\n",
    "df_spark.na.drop(how='all').show(5)"
   ]
  },
  {
   "cell_type": "code",
   "execution_count": 228,
   "metadata": {},
   "outputs": [
    {
     "name": "stdout",
     "output_type": "stream",
     "text": [
      "+---+----------+---+------+--------------------+------+------------+---------+\n",
      "| id|first_name|age|gender|                 job|salary| credit card|      car|\n",
      "+---+----------+---+------+--------------------+------+------------+---------+\n",
      "|  6|    Gerard| 15|  Male| Associate Professor| 21661|  mastercard|    Lexus|\n",
      "|  9| Thorndike| 76|  Male|Chief Design Engi...| 38078|         jcb|    Acura|\n",
      "| 12| Albertina| 44|Female| Account Coordinator| 29211|instapayment|  Porsche|\n",
      "| 19|    Wendie| 36|Female|Desktop Support T...| 48713|         jcb|Chevrolet|\n",
      "| 27|   Emanuel| 22|  Male|  Help Desk Operator| 38050|     maestro|  McLaren|\n",
      "+---+----------+---+------+--------------------+------+------------+---------+\n",
      "only showing top 5 rows\n",
      "\n"
     ]
    }
   ],
   "source": [
    "#drop a row whit any values null\n",
    "df_spark.na.drop(how='any').show(5)"
   ]
  },
  {
   "cell_type": "code",
   "execution_count": 229,
   "metadata": {},
   "outputs": [
    {
     "name": "stdout",
     "output_type": "stream",
     "text": [
      "+---+----------+----+----------+--------------------+------+--------------+-------+\n",
      "| id|first_name| age|    gender|                 job|salary|   credit card|    car|\n",
      "+---+----------+----+----------+--------------------+------+--------------+-------+\n",
      "|  1|    Jaimie|  48|      Male|Payment Adjustmen...| 30550|  instapayment|   NULL|\n",
      "|  2|   Fidelio|NULL|      Male| Marketing Assistant| 35313|        switch|Lincoln|\n",
      "|  3|       Bel|  70|    Female|       Senior Editor| 41395|          NULL|  Volvo|\n",
      "|  4|   Walther|NULL|      Male|Automation Specia...| 39315|china-unionpay|  Mazda|\n",
      "|  5|    Shaine|  46|Non-binary|                NULL| 47798|           jcb|  Honda|\n",
      "+---+----------+----+----------+--------------------+------+--------------+-------+\n",
      "only showing top 5 rows\n",
      "\n"
     ]
    }
   ],
   "source": [
    "#drop a row whit <4 values null\n",
    "df_spark.na.drop(how='all', thresh=4).show(5)"
   ]
  },
  {
   "cell_type": "code",
   "execution_count": 230,
   "metadata": {},
   "outputs": [
    {
     "name": "stdout",
     "output_type": "stream",
     "text": [
      "+---+----------+----+------+--------------------+------+--------------+-------+\n",
      "| id|first_name| age|gender|                 job|salary|   credit card|    car|\n",
      "+---+----------+----+------+--------------------+------+--------------+-------+\n",
      "|  1|    Jaimie|  48|  Male|Payment Adjustmen...| 30550|  instapayment|   NULL|\n",
      "|  2|   Fidelio|NULL|  Male| Marketing Assistant| 35313|        switch|Lincoln|\n",
      "|  3|       Bel|  70|Female|       Senior Editor| 41395|          NULL|  Volvo|\n",
      "|  4|   Walther|NULL|  Male|Automation Specia...| 39315|china-unionpay|  Mazda|\n",
      "|  6|    Gerard|  15|  Male| Associate Professor| 21661|    mastercard|  Lexus|\n",
      "+---+----------+----+------+--------------------+------+--------------+-------+\n",
      "only showing top 5 rows\n",
      "\n"
     ]
    }
   ],
   "source": [
    "#drop a row whit job values null\n",
    "df_spark.na.drop(how='all', subset=['job']).show(5)"
   ]
  },
  {
   "cell_type": "code",
   "execution_count": 231,
   "metadata": {},
   "outputs": [
    {
     "name": "stdout",
     "output_type": "stream",
     "text": [
      "+---+----------+----+----------+--------------------+------+--------------+-------------+\n",
      "| id|first_name| age|    gender|                 job|salary|   credit card|          car|\n",
      "+---+----------+----+----------+--------------------+------+--------------+-------------+\n",
      "|  1|    Jaimie|  48|      Male|Payment Adjustmen...| 30550|  instapayment|missing value|\n",
      "|  2|   Fidelio|NULL|      Male| Marketing Assistant| 35313|        switch|      Lincoln|\n",
      "|  3|       Bel|  70|    Female|       Senior Editor| 41395| missing value|        Volvo|\n",
      "|  4|   Walther|NULL|      Male|Automation Specia...| 39315|china-unionpay|        Mazda|\n",
      "|  5|    Shaine|  46|Non-binary|       missing value| 47798|           jcb|        Honda|\n",
      "+---+----------+----+----------+--------------------+------+--------------+-------------+\n",
      "only showing top 5 rows\n",
      "\n"
     ]
    }
   ],
   "source": [
    "#filling the missing values\n",
    "df_spark.na.fill('missing value').show(5)"
   ]
  },
  {
   "cell_type": "code",
   "execution_count": 232,
   "metadata": {},
   "outputs": [
    {
     "name": "stdout",
     "output_type": "stream",
     "text": [
      "+---+----------+----+-------------+--------------------+------+--------------------+---------+\n",
      "| id|first_name| age|       gender|                 job|salary|         credit card|      car|\n",
      "+---+----------+----+-------------+--------------------+------+--------------------+---------+\n",
      "|  1|    Jaimie|  48|         Male|Payment Adjustmen...| 30550|        instapayment|     NULL|\n",
      "|  2|   Fidelio|NULL|         Male| Marketing Assistant| 35313|              switch|  Lincoln|\n",
      "|  3|       Bel|  70|       Female|       Senior Editor| 41395|                NULL|    Volvo|\n",
      "|  4|   Walther|NULL|         Male|Automation Specia...| 39315|      china-unionpay|    Mazda|\n",
      "|  5|    Shaine|  46|   Non-binary|       missing value| 47798|                 jcb|    Honda|\n",
      "|  6|    Gerard|  15|         Male| Associate Professor| 21661|          mastercard|    Lexus|\n",
      "|  7|   Saunder|NULL|      Agender|   Financial Analyst|  NULL|                 jcb|     NULL|\n",
      "|  8|     Maxim|NULL|         Male|     General Manager|  NULL|                 jcb| Chrysler|\n",
      "|  9| Thorndike|  76|         Male|Chief Design Engi...| 38078|                 jcb|    Acura|\n",
      "| 10|   Falkner|NULL|         Male|       missing value| 39823|                 jcb|     Ford|\n",
      "| 11|   Nichole|NULL|missing value|Computer Systems ...| 37138|                 jcb|    Lexus|\n",
      "| 12| Albertina|  44|       Female| Account Coordinator| 29211|        instapayment|  Porsche|\n",
      "| 13|      Dena|NULL|       Female|     Media Manager I| 42030|                 jcb|     Ford|\n",
      "| 14|   Hershel|  17|         Male| Safety Technician I|  NULL|                 jcb|     Ford|\n",
      "| 15|   Chrisse|NULL|         Male|Computer Systems ...| 21015|                NULL|    Isuzu|\n",
      "| 16|      Bari|  34|       Female|Business Systems ...| 38188|       visa-electron|     NULL|\n",
      "| 17|      NULL|  58|         Male|Nuclear Power Eng...| 45667|     americanexpress|      Kia|\n",
      "| 18|      Livy|NULL|       Female|    Dental Hygienist| 30314|diners-club-carte...| Chrysler|\n",
      "| 19|    Wendie|  36|       Female|Desktop Support T...| 48713|                 jcb|Chevrolet|\n",
      "| 20|    Luther|NULL|         Male|Compensation Analyst| 30389|                 jcb|    Lotus|\n",
      "+---+----------+----+-------------+--------------------+------+--------------------+---------+\n",
      "only showing top 20 rows\n",
      "\n"
     ]
    }
   ],
   "source": [
    "df_spark.na.fill('missing value',['job','gender']).show()"
   ]
  },
  {
   "cell_type": "code",
   "execution_count": 233,
   "metadata": {},
   "outputs": [
    {
     "name": "stdout",
     "output_type": "stream",
     "text": [
      "+---+----------+----+----------+--------------------+------+--------------------+---------+\n",
      "| id|first_name| age|    gender|                 job|salary|         credit card|      car|\n",
      "+---+----------+----+----------+--------------------+------+--------------------+---------+\n",
      "|  1|    Jaimie|  48|      Male|Payment Adjustmen...| 30550|        instapayment|     NULL|\n",
      "|  2|   Fidelio|NULL|      Male| Marketing Assistant| 35313|              switch|  Lincoln|\n",
      "|  3|       Bel|  70|    Female|       Senior Editor| 41395|                NULL|    Volvo|\n",
      "|  4|   Walther|NULL|      Male|Automation Specia...| 39315|      china-unionpay|    Mazda|\n",
      "|  5|    Shaine|  46|Non-binary|                NULL| 47798|                 jcb|    Honda|\n",
      "|  6|    Gerard|  15|      Male| Associate Professor| 21661|          mastercard|    Lexus|\n",
      "|  7|   Saunder|NULL|   Agender|   Financial Analyst|  NULL|                 jcb|     NULL|\n",
      "|  8|     Maxim|NULL|      Male|     General Manager|  NULL|                 jcb| Chrysler|\n",
      "|  9| Thorndike|  76|      Male|Chief Design Engi...| 38078|                 jcb|    Acura|\n",
      "| 10|   Falkner|NULL|      Male|                NULL| 39823|                 jcb|     Ford|\n",
      "| 11|   Nichole|NULL|      NULL|Computer Systems ...| 37138|                 jcb|    Lexus|\n",
      "| 12| Albertina|  44|    Female| Account Coordinator| 29211|        instapayment|  Porsche|\n",
      "| 13|      Dena|NULL|    Female|     Media Manager I| 42030|                 jcb|     Ford|\n",
      "| 14|   Hershel|  17|      Male| Safety Technician I|  NULL|                 jcb|     Ford|\n",
      "| 15|   Chrisse|NULL|      Male|Computer Systems ...| 21015|                NULL|    Isuzu|\n",
      "| 16|      Bari|  34|    Female|Business Systems ...| 38188|       visa-electron|     NULL|\n",
      "| 17|      NULL|  58|      Male|Nuclear Power Eng...| 45667|     americanexpress|      Kia|\n",
      "| 18|      Livy|NULL|    Female|    Dental Hygienist| 30314|diners-club-carte...| Chrysler|\n",
      "| 19|    Wendie|  36|    Female|Desktop Support T...| 48713|                 jcb|Chevrolet|\n",
      "| 20|    Luther|NULL|      Male|Compensation Analyst| 30389|                 jcb|    Lotus|\n",
      "+---+----------+----+----------+--------------------+------+--------------------+---------+\n",
      "only showing top 20 rows\n",
      "\n"
     ]
    }
   ],
   "source": [
    "df_spark.show(20)"
   ]
  },
  {
   "cell_type": "code",
   "execution_count": 234,
   "metadata": {},
   "outputs": [],
   "source": [
    "from pyspark.ml.feature import Imputer\n",
    "\n",
    "columns_to_impute = ['age', 'salary']\n",
    "\n",
    "imputer = Imputer(\n",
    "    inputCols=columns_to_impute, \n",
    "    outputCols=[f\"{c}\" for c in columns_to_impute]\n",
    ").setStrategy(\"mean\") #mean or mediam\n",
    "\n",
    "df_pyspark_imputed = imputer.fit(df_spark).transform(df_spark)"
   ]
  },
  {
   "cell_type": "code",
   "execution_count": 235,
   "metadata": {},
   "outputs": [
    {
     "name": "stdout",
     "output_type": "stream",
     "text": [
      "root\n",
      " |-- id: integer (nullable = true)\n",
      " |-- first_name: string (nullable = true)\n",
      " |-- age: integer (nullable = true)\n",
      " |-- gender: string (nullable = true)\n",
      " |-- job: string (nullable = true)\n",
      " |-- salary: integer (nullable = true)\n",
      " |-- credit card: string (nullable = true)\n",
      " |-- car: string (nullable = true)\n",
      "\n"
     ]
    }
   ],
   "source": [
    "df_pyspark_imputed.printSchema()"
   ]
  },
  {
   "cell_type": "code",
   "execution_count": 236,
   "metadata": {},
   "outputs": [
    {
     "name": "stdout",
     "output_type": "stream",
     "text": [
      "+---+----------+---+----------+--------------------+------+--------------------+---------+\n",
      "| id|first_name|age|    gender|                 job|salary|         credit card|      car|\n",
      "+---+----------+---+----------+--------------------+------+--------------------+---------+\n",
      "|  1|    Jaimie| 48|      Male|Payment Adjustmen...| 30550|        instapayment|     NULL|\n",
      "|  2|   Fidelio| 44|      Male| Marketing Assistant| 35313|              switch|  Lincoln|\n",
      "|  3|       Bel| 70|    Female|       Senior Editor| 41395|                NULL|    Volvo|\n",
      "|  4|   Walther| 44|      Male|Automation Specia...| 39315|      china-unionpay|    Mazda|\n",
      "|  5|    Shaine| 46|Non-binary|                NULL| 47798|                 jcb|    Honda|\n",
      "|  6|    Gerard| 15|      Male| Associate Professor| 21661|          mastercard|    Lexus|\n",
      "|  7|   Saunder| 44|   Agender|   Financial Analyst| 35573|                 jcb|     NULL|\n",
      "|  8|     Maxim| 44|      Male|     General Manager| 35573|                 jcb| Chrysler|\n",
      "|  9| Thorndike| 76|      Male|Chief Design Engi...| 38078|                 jcb|    Acura|\n",
      "| 10|   Falkner| 44|      Male|                NULL| 39823|                 jcb|     Ford|\n",
      "| 11|   Nichole| 44|      NULL|Computer Systems ...| 37138|                 jcb|    Lexus|\n",
      "| 12| Albertina| 44|    Female| Account Coordinator| 29211|        instapayment|  Porsche|\n",
      "| 13|      Dena| 44|    Female|     Media Manager I| 42030|                 jcb|     Ford|\n",
      "| 14|   Hershel| 17|      Male| Safety Technician I| 35573|                 jcb|     Ford|\n",
      "| 15|   Chrisse| 44|      Male|Computer Systems ...| 21015|                NULL|    Isuzu|\n",
      "| 16|      Bari| 34|    Female|Business Systems ...| 38188|       visa-electron|     NULL|\n",
      "| 17|      NULL| 58|      Male|Nuclear Power Eng...| 45667|     americanexpress|      Kia|\n",
      "| 18|      Livy| 44|    Female|    Dental Hygienist| 30314|diners-club-carte...| Chrysler|\n",
      "| 19|    Wendie| 36|    Female|Desktop Support T...| 48713|                 jcb|Chevrolet|\n",
      "| 20|    Luther| 44|      Male|Compensation Analyst| 30389|                 jcb|    Lotus|\n",
      "+---+----------+---+----------+--------------------+------+--------------------+---------+\n",
      "only showing top 20 rows\n",
      "\n"
     ]
    }
   ],
   "source": [
    "df_pyspark_imputed.show()"
   ]
  },
  {
   "cell_type": "code",
   "execution_count": 237,
   "metadata": {},
   "outputs": [],
   "source": [
    "#para datos categoricos\n",
    "from pyspark.ml.feature import StringIndexer\n",
    "from pyspark.sql.functions import col, count, desc\n",
    "\n",
    "\n",
    "indexer = StringIndexer(inputCols=['gender' ,'job' , 'credit card' ,'car'], outputCols = \n",
    "                        ['gender_indexed', 'job_indexed' , 'credit card_indexed','car_indexed'], handleInvalid=\"keep\")\n",
    "df_r = indexer.fit(df_pyspark_imputed).transform(df_pyspark_imputed)\n",
    "\n"
   ]
  },
  {
   "cell_type": "code",
   "execution_count": 238,
   "metadata": {},
   "outputs": [
    {
     "name": "stdout",
     "output_type": "stream",
     "text": [
      "+---+----------+---+----------+--------------------+------+--------------------+---------+--------------+-----------+-------------------+-----------+\n",
      "| id|first_name|age|    gender|                 job|salary|         credit card|      car|gender_indexed|job_indexed|credit card_indexed|car_indexed|\n",
      "+---+----------+---+----------+--------------------+------+--------------------+---------+--------------+-----------+-------------------+-----------+\n",
      "|  1|    Jaimie| 48|      Male|Payment Adjustmen...| 30550|        instapayment|     NULL|           0.0|       42.0|                7.0|       36.0|\n",
      "|  2|   Fidelio| 44|      Male| Marketing Assistant| 35313|              switch|  Lincoln|           0.0|       13.0|                4.0|        1.0|\n",
      "|  3|       Bel| 70|    Female|       Senior Editor| 41395|                NULL|    Volvo|           1.0|       53.0|               14.0|        5.0|\n",
      "|  4|   Walther| 44|      Male|Automation Specia...| 39315|      china-unionpay|    Mazda|           0.0|       22.0|                5.0|        3.0|\n",
      "|  5|    Shaine| 46|Non-binary|                NULL| 47798|                 jcb|    Honda|           5.0|       68.0|                0.0|        9.0|\n",
      "|  6|    Gerard| 15|      Male| Associate Professor| 21661|          mastercard|    Lexus|           0.0|       20.0|                1.0|       10.0|\n",
      "|  7|   Saunder| 44|   Agender|   Financial Analyst| 35573|                 jcb|     NULL|           3.0|        3.0|                0.0|       36.0|\n",
      "|  8|     Maxim| 44|      Male|     General Manager| 35573|                 jcb| Chrysler|           0.0|       33.0|                0.0|        6.0|\n",
      "|  9| Thorndike| 76|      Male|Chief Design Engi...| 38078|                 jcb|    Acura|           0.0|        2.0|                0.0|       12.0|\n",
      "| 10|   Falkner| 44|      Male|                NULL| 39823|                 jcb|     Ford|           0.0|       68.0|                0.0|        0.0|\n",
      "| 11|   Nichole| 44|      NULL|Computer Systems ...| 37138|                 jcb|    Lexus|           8.0|       25.0|                0.0|       10.0|\n",
      "| 12| Albertina| 44|    Female| Account Coordinator| 29211|        instapayment|  Porsche|           1.0|        0.0|                7.0|       19.0|\n",
      "| 13|      Dena| 44|    Female|     Media Manager I| 42030|                 jcb|     Ford|           1.0|       38.0|                0.0|        0.0|\n",
      "| 14|   Hershel| 17|      Male| Safety Technician I| 35573|                 jcb|     Ford|           0.0|       50.0|                0.0|        0.0|\n",
      "| 15|   Chrisse| 44|      Male|Computer Systems ...| 21015|                NULL|    Isuzu|           0.0|       24.0|               14.0|       23.0|\n",
      "| 16|      Bari| 34|    Female|Business Systems ...| 38188|       visa-electron|     NULL|           1.0|        7.0|                8.0|       36.0|\n",
      "| 17|      NULL| 58|      Male|Nuclear Power Eng...| 45667|     americanexpress|      Kia|           0.0|       39.0|                9.0|       16.0|\n",
      "| 18|      Livy| 44|    Female|    Dental Hygienist| 30314|diners-club-carte...| Chrysler|           1.0|       10.0|                3.0|        6.0|\n",
      "| 19|    Wendie| 36|    Female|Desktop Support T...| 48713|                 jcb|Chevrolet|           1.0|       29.0|                0.0|        2.0|\n",
      "| 20|    Luther| 44|      Male|Compensation Analyst| 30389|                 jcb|    Lotus|           0.0|        9.0|                0.0|       27.0|\n",
      "+---+----------+---+----------+--------------------+------+--------------------+---------+--------------+-----------+-------------------+-----------+\n",
      "only showing top 20 rows\n",
      "\n"
     ]
    }
   ],
   "source": [
    "df_r.show()"
   ]
  },
  {
   "cell_type": "code",
   "execution_count": 239,
   "metadata": {},
   "outputs": [
    {
     "name": "stdout",
     "output_type": "stream",
     "text": [
      "+---+----------+---+----------+--------------------+------+--------------------+---------+\n",
      "| id|first_name|age|    gender|                 job|salary|         credit card|      car|\n",
      "+---+----------+---+----------+--------------------+------+--------------------+---------+\n",
      "|  1|    Jaimie| 48|      Male|Payment Adjustmen...| 30550|        instapayment|     NULL|\n",
      "|  2|   Fidelio| 44|      Male| Marketing Assistant| 35313|              switch|  Lincoln|\n",
      "|  3|       Bel| 70|    Female|       Senior Editor| 41395|                NULL|    Volvo|\n",
      "|  4|   Walther| 44|      Male|Automation Specia...| 39315|      china-unionpay|    Mazda|\n",
      "|  5|    Shaine| 46|Non-binary|                NULL| 47798|                 jcb|    Honda|\n",
      "|  6|    Gerard| 15|      Male| Associate Professor| 21661|          mastercard|    Lexus|\n",
      "|  7|   Saunder| 44|   Agender|   Financial Analyst| 35573|                 jcb|     NULL|\n",
      "|  8|     Maxim| 44|      Male|     General Manager| 35573|                 jcb| Chrysler|\n",
      "|  9| Thorndike| 76|      Male|Chief Design Engi...| 38078|                 jcb|    Acura|\n",
      "| 10|   Falkner| 44|      Male|                NULL| 39823|                 jcb|     Ford|\n",
      "| 11|   Nichole| 44|      NULL|Computer Systems ...| 37138|                 jcb|    Lexus|\n",
      "| 12| Albertina| 44|    Female| Account Coordinator| 29211|        instapayment|  Porsche|\n",
      "| 13|      Dena| 44|    Female|     Media Manager I| 42030|                 jcb|     Ford|\n",
      "| 14|   Hershel| 17|      Male| Safety Technician I| 35573|                 jcb|     Ford|\n",
      "| 15|   Chrisse| 44|      Male|Computer Systems ...| 21015|                NULL|    Isuzu|\n",
      "| 16|      Bari| 34|    Female|Business Systems ...| 38188|       visa-electron|     NULL|\n",
      "| 17|      NULL| 58|      Male|Nuclear Power Eng...| 45667|     americanexpress|      Kia|\n",
      "| 18|      Livy| 44|    Female|    Dental Hygienist| 30314|diners-club-carte...| Chrysler|\n",
      "| 19|    Wendie| 36|    Female|Desktop Support T...| 48713|                 jcb|Chevrolet|\n",
      "| 20|    Luther| 44|      Male|Compensation Analyst| 30389|                 jcb|    Lotus|\n",
      "+---+----------+---+----------+--------------------+------+--------------------+---------+\n",
      "only showing top 20 rows\n",
      "\n"
     ]
    }
   ],
   "source": [
    "df_pyspark_imputed.show()"
   ]
  },
  {
   "cell_type": "code",
   "execution_count": 240,
   "metadata": {},
   "outputs": [],
   "source": [
    "from pyspark.ml.feature import VectorAssembler"
   ]
  },
  {
   "cell_type": "code",
   "execution_count": 241,
   "metadata": {},
   "outputs": [],
   "source": [
    "featuraassembler = VectorAssembler(inputCols=['gender_indexed', 'job_indexed', 'credit card_indexed', 'car_indexed'],\n",
    "                outputCol='Independent_features')\n",
    "output = featuraassembler.transform(df_r)"
   ]
  },
  {
   "cell_type": "code",
   "execution_count": 242,
   "metadata": {},
   "outputs": [],
   "source": [
    "df_final = output.select('Independent_features', 'salary')"
   ]
  },
  {
   "cell_type": "code",
   "execution_count": 243,
   "metadata": {},
   "outputs": [],
   "source": [
    "from pyspark.ml.regression import LinearRegression\n"
   ]
  },
  {
   "cell_type": "code",
   "execution_count": 244,
   "metadata": {},
   "outputs": [
    {
     "name": "stdout",
     "output_type": "stream",
     "text": [
      "+--------------------+------+\n",
      "|Independent_features|salary|\n",
      "+--------------------+------+\n",
      "| [0.0,42.0,7.0,36.0]| 30550|\n",
      "|  [0.0,13.0,4.0,1.0]| 35313|\n",
      "| [1.0,53.0,14.0,5.0]| 41395|\n",
      "|  [0.0,22.0,5.0,3.0]| 39315|\n",
      "|  [5.0,68.0,0.0,9.0]| 47798|\n",
      "| [0.0,20.0,1.0,10.0]| 21661|\n",
      "|  [3.0,3.0,0.0,36.0]| 35573|\n",
      "|  [0.0,33.0,0.0,6.0]| 35573|\n",
      "|  [0.0,2.0,0.0,12.0]| 38078|\n",
      "|      (4,[1],[68.0])| 39823|\n",
      "| [8.0,25.0,0.0,10.0]| 37138|\n",
      "|  [1.0,0.0,7.0,19.0]| 29211|\n",
      "|  [1.0,38.0,0.0,0.0]| 42030|\n",
      "|      (4,[1],[50.0])| 35573|\n",
      "|[0.0,24.0,14.0,23.0]| 21015|\n",
      "|  [1.0,7.0,8.0,36.0]| 38188|\n",
      "| [0.0,39.0,9.0,16.0]| 45667|\n",
      "|  [1.0,10.0,3.0,6.0]| 30314|\n",
      "|  [1.0,29.0,0.0,2.0]| 48713|\n",
      "|  [0.0,9.0,0.0,27.0]| 30389|\n",
      "+--------------------+------+\n",
      "only showing top 20 rows\n",
      "\n"
     ]
    }
   ],
   "source": [
    "df_final.show()"
   ]
  },
  {
   "cell_type": "code",
   "execution_count": 245,
   "metadata": {},
   "outputs": [],
   "source": [
    "#train_data,test_data = df_final.randomSplit([0.7, 0.3])\n",
    "train_data, test_data = df_final.randomSplit([0.7, 0.3], seed=12345)\n",
    "regre = LinearRegression(featuresCol='Independent_features', labelCol='salary')\n",
    "regre = regre.fit(train_data)"
   ]
  },
  {
   "cell_type": "code",
   "execution_count": 246,
   "metadata": {},
   "outputs": [
    {
     "data": {
      "text/plain": [
       "DenseVector([163.21, 81.8441, -6.4627, 41.006])"
      ]
     },
     "execution_count": 246,
     "metadata": {},
     "output_type": "execute_result"
    }
   ],
   "source": [
    "regre.coefficients"
   ]
  },
  {
   "cell_type": "code",
   "execution_count": 247,
   "metadata": {},
   "outputs": [
    {
     "data": {
      "text/plain": [
       "31768.320025650657"
      ]
     },
     "execution_count": 247,
     "metadata": {},
     "output_type": "execute_result"
    }
   ],
   "source": [
    "regre.intercept"
   ]
  },
  {
   "cell_type": "code",
   "execution_count": 248,
   "metadata": {},
   "outputs": [],
   "source": [
    "pre_test = regre.evaluate(test_data)"
   ]
  },
  {
   "cell_type": "code",
   "execution_count": 250,
   "metadata": {},
   "outputs": [
    {
     "name": "stdout",
     "output_type": "stream",
     "text": [
      "+--------------------+------+------------------+\n",
      "|Independent_features|salary|        prediction|\n",
      "+--------------------+------+------------------+\n",
      "|  [0.0,3.0,0.0,36.0]| 34365| 33490.06961970947|\n",
      "| [0.0,11.0,0.0,36.0]| 31285|34144.822775295055|\n",
      "|  [0.0,16.0,2.0,8.0]| 39162| 33392.94923026146|\n",
      "|  [0.0,28.0,0.0,5.0]| 35573|34264.986231410505|\n",
      "|  [0.0,33.0,0.0,6.0]| 35573| 34715.21298589355|\n",
      "| [0.0,42.0,7.0,36.0]| 30550|36636.752477450194|\n",
      "|[0.0,65.0,12.0,19.0]| 43223| 37789.75184040156|\n",
      "|  [1.0,10.0,3.0,6.0]| 30314|32976.619610012975|\n",
      "| [1.0,15.0,0.0,21.0]| 29911| 34020.31886263017|\n",
      "| [2.0,32.0,8.0,11.0]| 35573|35113.117531014745|\n",
      "|  [3.0,3.0,0.0,36.0]| 35573| 33979.69959922922|\n",
      "|  [5.0,68.0,0.0,9.0]| 47798|  38518.8261041729|\n",
      "|  [8.0,8.0,0.0,36.0]| 44815|35204.970287336444|\n",
      "| [8.0,25.0,0.0,10.0]| 37138|  35530.1639046622|\n",
      "| [8.0,45.0,4.0,11.0]| 48250|37182.202096874506|\n",
      "|[8.0,67.0,14.0,14.0]| 43270| 39041.16454897677|\n",
      "| [8.0,68.0,3.0,10.0]| 27834| 39030.07406918942|\n",
      "| [8.0,68.0,3.0,28.0]| 39541|39768.182649546536|\n",
      "+--------------------+------+------------------+\n",
      "\n"
     ]
    }
   ],
   "source": [
    "pre_test.predictions.show()"
   ]
  }
 ],
 "metadata": {
  "kernelspec": {
   "display_name": "Python 3",
   "language": "python",
   "name": "python3"
  },
  "language_info": {
   "codemirror_mode": {
    "name": "ipython",
    "version": 3
   },
   "file_extension": ".py",
   "mimetype": "text/x-python",
   "name": "python",
   "nbconvert_exporter": "python",
   "pygments_lexer": "ipython3",
   "version": "3.12.3"
  }
 },
 "nbformat": 4,
 "nbformat_minor": 2
}
