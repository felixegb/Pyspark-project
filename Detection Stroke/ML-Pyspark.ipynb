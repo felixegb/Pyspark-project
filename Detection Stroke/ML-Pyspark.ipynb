{
 "cells": [
  {
   "cell_type": "code",
   "execution_count": 236,
   "metadata": {},
   "outputs": [],
   "source": [
    "import pyspark\n",
    "import pandas as pd\n",
    "from pyspark.sql import SparkSession\n",
    "from pyspark.ml.feature import VectorAssembler, StringIndexer, StandardScaler\n",
    "from pyspark.ml.classification import LogisticRegression, DecisionTreeClassifier"
   ]
  },
  {
   "cell_type": "code",
   "execution_count": 237,
   "metadata": {},
   "outputs": [],
   "source": [
    "spark = SparkSession.builder.appName(\"Stroke\").config(\"spark.sql.debug\", \"true\").getOrCreate()"
   ]
  },
  {
   "cell_type": "code",
   "execution_count": 238,
   "metadata": {},
   "outputs": [],
   "source": [
    "df = spark.read.csv('healthcare-dataset-stroke-data.csv', header = True, inferSchema=True)"
   ]
  },
  {
   "cell_type": "code",
   "execution_count": 239,
   "metadata": {},
   "outputs": [
    {
     "name": "stdout",
     "output_type": "stream",
     "text": [
      "+-----+------+----+------------+-------------+------------+-------------+--------------+-----------------+----+---------------+------+\n",
      "|   id|gender| age|hypertension|heart_disease|ever_married|    work_type|Residence_type|avg_glucose_level| bmi| smoking_status|stroke|\n",
      "+-----+------+----+------------+-------------+------------+-------------+--------------+-----------------+----+---------------+------+\n",
      "| 9046|  Male|67.0|           0|            1|         Yes|      Private|         Urban|           228.69|36.6|formerly smoked|     1|\n",
      "|51676|Female|61.0|           0|            0|         Yes|Self-employed|         Rural|           202.21| N/A|   never smoked|     1|\n",
      "|31112|  Male|80.0|           0|            1|         Yes|      Private|         Rural|           105.92|32.5|   never smoked|     1|\n",
      "|60182|Female|49.0|           0|            0|         Yes|      Private|         Urban|           171.23|34.4|         smokes|     1|\n",
      "| 1665|Female|79.0|           1|            0|         Yes|Self-employed|         Rural|           174.12|  24|   never smoked|     1|\n",
      "+-----+------+----+------------+-------------+------------+-------------+--------------+-----------------+----+---------------+------+\n",
      "only showing top 5 rows\n",
      "\n"
     ]
    }
   ],
   "source": [
    "df.show(5)"
   ]
  },
  {
   "cell_type": "code",
   "execution_count": 240,
   "metadata": {},
   "outputs": [
    {
     "name": "stdout",
     "output_type": "stream",
     "text": [
      "root\n",
      " |-- id: integer (nullable = true)\n",
      " |-- gender: string (nullable = true)\n",
      " |-- age: double (nullable = true)\n",
      " |-- hypertension: integer (nullable = true)\n",
      " |-- heart_disease: integer (nullable = true)\n",
      " |-- ever_married: string (nullable = true)\n",
      " |-- work_type: string (nullable = true)\n",
      " |-- Residence_type: string (nullable = true)\n",
      " |-- avg_glucose_level: double (nullable = true)\n",
      " |-- bmi: string (nullable = true)\n",
      " |-- smoking_status: string (nullable = true)\n",
      " |-- stroke: integer (nullable = true)\n",
      "\n"
     ]
    }
   ],
   "source": [
    "df.printSchema()"
   ]
  },
  {
   "cell_type": "code",
   "execution_count": 241,
   "metadata": {},
   "outputs": [],
   "source": [
    "df_prediction = df.select('gender','age','hypertension','heart_disease','Residence_type','avg_glucose_level','bmi','smoking_status','stroke')"
   ]
  },
  {
   "cell_type": "code",
   "execution_count": 242,
   "metadata": {},
   "outputs": [
    {
     "name": "stdout",
     "output_type": "stream",
     "text": [
      "+------+----+------------+-------------+--------------+-----------------+----+---------------+------+\n",
      "|gender| age|hypertension|heart_disease|Residence_type|avg_glucose_level| bmi| smoking_status|stroke|\n",
      "+------+----+------------+-------------+--------------+-----------------+----+---------------+------+\n",
      "|  Male|67.0|           0|            1|         Urban|           228.69|36.6|formerly smoked|     1|\n",
      "|Female|61.0|           0|            0|         Rural|           202.21| N/A|   never smoked|     1|\n",
      "|  Male|80.0|           0|            1|         Rural|           105.92|32.5|   never smoked|     1|\n",
      "|Female|49.0|           0|            0|         Urban|           171.23|34.4|         smokes|     1|\n",
      "|Female|79.0|           1|            0|         Rural|           174.12|  24|   never smoked|     1|\n",
      "+------+----+------------+-------------+--------------+-----------------+----+---------------+------+\n",
      "only showing top 5 rows\n",
      "\n"
     ]
    }
   ],
   "source": [
    "df_prediction.show(5)"
   ]
  },
  {
   "cell_type": "code",
   "execution_count": 243,
   "metadata": {},
   "outputs": [
    {
     "data": {
      "text/plain": [
       "[('gender', 'string'),\n",
       " ('age', 'double'),\n",
       " ('hypertension', 'int'),\n",
       " ('heart_disease', 'int'),\n",
       " ('Residence_type', 'string'),\n",
       " ('avg_glucose_level', 'double'),\n",
       " ('bmi', 'string'),\n",
       " ('smoking_status', 'string'),\n",
       " ('stroke', 'int')]"
      ]
     },
     "execution_count": 243,
     "metadata": {},
     "output_type": "execute_result"
    }
   ],
   "source": [
    "df_prediction.dtypes"
   ]
  },
  {
   "cell_type": "code",
   "execution_count": 244,
   "metadata": {},
   "outputs": [
    {
     "name": "stdout",
     "output_type": "stream",
     "text": [
      "+---------------+-----+\n",
      "| smoking_status|count|\n",
      "+---------------+-----+\n",
      "|         smokes|  789|\n",
      "|        Unknown| 1544|\n",
      "|   never smoked| 1892|\n",
      "|formerly smoked|  885|\n",
      "+---------------+-----+\n",
      "\n"
     ]
    }
   ],
   "source": [
    "df_prediction.groupBy('smoking_status').count().show()"
   ]
  },
  {
   "cell_type": "code",
   "execution_count": 245,
   "metadata": {},
   "outputs": [
    {
     "name": "stdout",
     "output_type": "stream",
     "text": [
      "+------+--------------+---------------+-----+\n",
      "|gender|Residence_type| smoking_status|count|\n",
      "+------+--------------+---------------+-----+\n",
      "|Female|         Urban|         smokes|  243|\n",
      "|Female|         Rural|formerly smoked|  227|\n",
      "|  Male|         Urban|         smokes|  183|\n",
      "|Female|         Urban|   never smoked|  618|\n",
      "|Female|         Rural|   never smoked|  611|\n",
      "|Female|         Urban|        Unknown|  418|\n",
      "|  Male|         Rural|formerly smoked|  200|\n",
      "|Female|         Rural|         smokes|  209|\n",
      "| Other|         Rural|formerly smoked|    1|\n",
      "|  Male|         Urban|        Unknown|  364|\n",
      "|  Male|         Rural|   never smoked|  350|\n",
      "|Female|         Urban|formerly smoked|  250|\n",
      "|  Male|         Urban|   never smoked|  313|\n",
      "|  Male|         Rural|         smokes|  154|\n",
      "|Female|         Rural|        Unknown|  418|\n",
      "|  Male|         Rural|        Unknown|  344|\n",
      "|  Male|         Urban|formerly smoked|  207|\n",
      "+------+--------------+---------------+-----+\n",
      "\n"
     ]
    }
   ],
   "source": [
    "df_prediction.groupBy(['gender','Residence_type','smoking_status']).count().show()"
   ]
  },
  {
   "cell_type": "code",
   "execution_count": 246,
   "metadata": {},
   "outputs": [
    {
     "name": "stdout",
     "output_type": "stream",
     "text": [
      "+---------------+\n",
      "| smoking_status|\n",
      "+---------------+\n",
      "|         smokes|\n",
      "|        Unknown|\n",
      "|   never smoked|\n",
      "|formerly smoked|\n",
      "+---------------+\n",
      "\n"
     ]
    }
   ],
   "source": [
    "df_prediction.select('smoking_status').distinct().show()"
   ]
  },
  {
   "cell_type": "code",
   "execution_count": 247,
   "metadata": {},
   "outputs": [],
   "source": [
    "genderEncoder = StringIndexer(inputCols=['gender','Residence_type','smoking_status'], outputCols=['indexer_gender','indexer_Residence_type','indexer_smoking_status']).fit(df_prediction)"
   ]
  },
  {
   "cell_type": "code",
   "execution_count": 248,
   "metadata": {},
   "outputs": [],
   "source": [
    "df_prediction_indexer = genderEncoder.transform(df_prediction)"
   ]
  },
  {
   "cell_type": "code",
   "execution_count": 249,
   "metadata": {},
   "outputs": [
    {
     "name": "stdout",
     "output_type": "stream",
     "text": [
      "+------+----+------------+-------------+--------------+-----------------+----+---------------+------+--------------+----------------------+----------------------+\n",
      "|gender| age|hypertension|heart_disease|Residence_type|avg_glucose_level| bmi| smoking_status|stroke|indexer_gender|indexer_Residence_type|indexer_smoking_status|\n",
      "+------+----+------------+-------------+--------------+-----------------+----+---------------+------+--------------+----------------------+----------------------+\n",
      "|  Male|67.0|           0|            1|         Urban|           228.69|36.6|formerly smoked|     1|           1.0|                   0.0|                   2.0|\n",
      "|Female|61.0|           0|            0|         Rural|           202.21| N/A|   never smoked|     1|           0.0|                   1.0|                   0.0|\n",
      "|  Male|80.0|           0|            1|         Rural|           105.92|32.5|   never smoked|     1|           1.0|                   1.0|                   0.0|\n",
      "|Female|49.0|           0|            0|         Urban|           171.23|34.4|         smokes|     1|           0.0|                   0.0|                   3.0|\n",
      "|Female|79.0|           1|            0|         Rural|           174.12|  24|   never smoked|     1|           0.0|                   1.0|                   0.0|\n",
      "+------+----+------------+-------------+--------------+-----------------+----+---------------+------+--------------+----------------------+----------------------+\n",
      "only showing top 5 rows\n",
      "\n"
     ]
    }
   ],
   "source": [
    "df_prediction_indexer.show(5)"
   ]
  },
  {
   "cell_type": "code",
   "execution_count": 250,
   "metadata": {},
   "outputs": [],
   "source": [
    "df = df_prediction_indexer.select('indexer_gender','age','hypertension','heart_disease','indexer_Residence_type','avg_glucose_level','bmi','indexer_smoking_status','stroke')"
   ]
  },
  {
   "cell_type": "code",
   "execution_count": 251,
   "metadata": {},
   "outputs": [
    {
     "name": "stdout",
     "output_type": "stream",
     "text": [
      "+--------------+----+------------+-------------+----------------------+-----------------+----+----------------------+------+\n",
      "|indexer_gender| age|hypertension|heart_disease|indexer_Residence_type|avg_glucose_level| bmi|indexer_smoking_status|stroke|\n",
      "+--------------+----+------------+-------------+----------------------+-----------------+----+----------------------+------+\n",
      "|           1.0|67.0|           0|            1|                   0.0|           228.69|36.6|                   2.0|     1|\n",
      "|           0.0|61.0|           0|            0|                   1.0|           202.21| N/A|                   0.0|     1|\n",
      "|           1.0|80.0|           0|            1|                   1.0|           105.92|32.5|                   0.0|     1|\n",
      "|           0.0|49.0|           0|            0|                   0.0|           171.23|34.4|                   3.0|     1|\n",
      "|           0.0|79.0|           1|            0|                   1.0|           174.12|  24|                   0.0|     1|\n",
      "+--------------+----+------------+-------------+----------------------+-----------------+----+----------------------+------+\n",
      "only showing top 5 rows\n",
      "\n"
     ]
    }
   ],
   "source": [
    "df.show(5)"
   ]
  },
  {
   "cell_type": "code",
   "execution_count": 252,
   "metadata": {},
   "outputs": [
    {
     "data": {
      "text/plain": [
       "[('indexer_gender', 'double'),\n",
       " ('age', 'double'),\n",
       " ('hypertension', 'int'),\n",
       " ('heart_disease', 'int'),\n",
       " ('indexer_Residence_type', 'double'),\n",
       " ('avg_glucose_level', 'double'),\n",
       " ('bmi', 'string'),\n",
       " ('indexer_smoking_status', 'double'),\n",
       " ('stroke', 'int')]"
      ]
     },
     "execution_count": 252,
     "metadata": {},
     "output_type": "execute_result"
    }
   ],
   "source": [
    "df.dtypes"
   ]
  },
  {
   "cell_type": "code",
   "execution_count": 253,
   "metadata": {},
   "outputs": [
    {
     "name": "stdout",
     "output_type": "stream",
     "text": [
      "+---+-----+\n",
      "|BMI|count|\n",
      "+---+-----+\n",
      "|N/A|  201|\n",
      "+---+-----+\n",
      "\n"
     ]
    }
   ],
   "source": [
    "from pyspark.sql.functions import col\n",
    "\n",
    "df_na = df.filter(col(\"BMI\") == \"N/A\")\n",
    "df_na.groupBy('BMI').count().show()"
   ]
  },
  {
   "cell_type": "code",
   "execution_count": 254,
   "metadata": {},
   "outputs": [
    {
     "name": "stdout",
     "output_type": "stream",
     "text": [
      "+--------------+----+------------+-------------+----------------------+-----------------+----+----------------------+------+\n",
      "|indexer_gender| age|hypertension|heart_disease|indexer_Residence_type|avg_glucose_level| bmi|indexer_smoking_status|stroke|\n",
      "+--------------+----+------------+-------------+----------------------+-----------------+----+----------------------+------+\n",
      "|           1.0|67.0|           0|            1|                   0.0|           228.69|36.6|                   2.0|     1|\n",
      "|           1.0|80.0|           0|            1|                   1.0|           105.92|32.5|                   0.0|     1|\n",
      "|           0.0|49.0|           0|            0|                   0.0|           171.23|34.4|                   3.0|     1|\n",
      "|           0.0|79.0|           1|            0|                   1.0|           174.12|  24|                   0.0|     1|\n",
      "|           1.0|81.0|           0|            0|                   0.0|           186.21|  29|                   2.0|     1|\n",
      "+--------------+----+------------+-------------+----------------------+-----------------+----+----------------------+------+\n",
      "only showing top 5 rows\n",
      "\n"
     ]
    }
   ],
   "source": [
    "df = df.where(col(\"BMI\") != \"N/A\")\n",
    "df.show(5)"
   ]
  },
  {
   "cell_type": "code",
   "execution_count": 255,
   "metadata": {},
   "outputs": [],
   "source": [
    "# df = df.na.replace(\"N/A\", \"0\", subset=[\"bmi\"]) "
   ]
  },
  {
   "cell_type": "code",
   "execution_count": 256,
   "metadata": {},
   "outputs": [],
   "source": [
    "from pyspark.sql.types import DoubleType\n",
    "df = df.withColumn(\"bmi\", col(\"bmi\").cast(DoubleType()))"
   ]
  },
  {
   "cell_type": "code",
   "execution_count": 257,
   "metadata": {},
   "outputs": [
    {
     "name": "stdout",
     "output_type": "stream",
     "text": [
      "root\n",
      " |-- indexer_gender: double (nullable = false)\n",
      " |-- age: double (nullable = true)\n",
      " |-- hypertension: integer (nullable = true)\n",
      " |-- heart_disease: integer (nullable = true)\n",
      " |-- indexer_Residence_type: double (nullable = false)\n",
      " |-- avg_glucose_level: double (nullable = true)\n",
      " |-- bmi: double (nullable = true)\n",
      " |-- indexer_smoking_status: double (nullable = false)\n",
      " |-- stroke: integer (nullable = true)\n",
      "\n"
     ]
    }
   ],
   "source": [
    "df.printSchema()"
   ]
  },
  {
   "cell_type": "code",
   "execution_count": 258,
   "metadata": {},
   "outputs": [],
   "source": [
    "columns = df.columns\n",
    "columns.remove('stroke')\n",
    "VectorAss = VectorAssembler(inputCols=columns, outputCol='features')\n",
    "vec = VectorAss.transform(df)"
   ]
  },
  {
   "cell_type": "code",
   "execution_count": 259,
   "metadata": {},
   "outputs": [
    {
     "name": "stdout",
     "output_type": "stream",
     "text": [
      "+--------------+----+------------+-------------+----------------------+-----------------+----+----------------------+------+--------------------+\n",
      "|indexer_gender| age|hypertension|heart_disease|indexer_Residence_type|avg_glucose_level| bmi|indexer_smoking_status|stroke|            features|\n",
      "+--------------+----+------------+-------------+----------------------+-----------------+----+----------------------+------+--------------------+\n",
      "|           1.0|67.0|           0|            1|                   0.0|           228.69|36.6|                   2.0|     1|[1.0,67.0,0.0,1.0...|\n",
      "|           1.0|80.0|           0|            1|                   1.0|           105.92|32.5|                   0.0|     1|[1.0,80.0,0.0,1.0...|\n",
      "|           0.0|49.0|           0|            0|                   0.0|           171.23|34.4|                   3.0|     1|(8,[1,5,6,7],[49....|\n",
      "+--------------+----+------------+-------------+----------------------+-----------------+----+----------------------+------+--------------------+\n",
      "only showing top 3 rows\n",
      "\n"
     ]
    }
   ],
   "source": [
    "vec.show(3)"
   ]
  },
  {
   "cell_type": "code",
   "execution_count": 260,
   "metadata": {},
   "outputs": [
    {
     "data": {
      "text/plain": [
       "[Row(features=DenseVector([1.0, 67.0, 0.0, 1.0, 0.0, 228.69, 36.6, 2.0])),\n",
       " Row(features=DenseVector([1.0, 80.0, 0.0, 1.0, 1.0, 105.92, 32.5, 0.0])),\n",
       " Row(features=SparseVector(8, {1: 49.0, 5: 171.23, 6: 34.4, 7: 3.0}))]"
      ]
     },
     "execution_count": 260,
     "metadata": {},
     "output_type": "execute_result"
    }
   ],
   "source": [
    "vec.select('features').take(3)"
   ]
  },
  {
   "cell_type": "code",
   "execution_count": 261,
   "metadata": {},
   "outputs": [],
   "source": [
    "scaler = StandardScaler(inputCol='features', outputCol='scaler_features', withMean=True, withStd=True)\n",
    "scaler = scaler.fit(vec)\n",
    "df_final = scaler.transform(vec)"
   ]
  },
  {
   "cell_type": "code",
   "execution_count": 262,
   "metadata": {},
   "outputs": [],
   "source": [
    "df_final = df_final.select('scaler_features', 'stroke')"
   ]
  },
  {
   "cell_type": "code",
   "execution_count": 263,
   "metadata": {},
   "outputs": [
    {
     "name": "stdout",
     "output_type": "stream",
     "text": [
      "+--------------------+------+\n",
      "|     scaler_features|stroke|\n",
      "+--------------------+------+\n",
      "|[1.19830604849670...|     1|\n",
      "|[1.19830604849670...|     1|\n",
      "|[-0.8329385620248...|     1|\n",
      "|[-0.8329385620248...|     1|\n",
      "|[1.19830604849670...|     1|\n",
      "+--------------------+------+\n",
      "only showing top 5 rows\n",
      "\n"
     ]
    }
   ],
   "source": [
    "df_final.show(5)"
   ]
  },
  {
   "cell_type": "code",
   "execution_count": 264,
   "metadata": {},
   "outputs": [
    {
     "data": {
      "text/plain": [
       "[Row(scaler_features=DenseVector([1.1983, 1.07, -0.318, 4.3815, -0.9855, 2.7774, 0.9812, 0.8491]), stroke=1),\n",
       " Row(scaler_features=DenseVector([1.1983, 1.6464, -0.318, 4.3815, 1.0145, 0.0138, 0.4592, -1.0243]), stroke=1),\n",
       " Row(scaler_features=DenseVector([-0.8329, 0.272, -0.318, -0.2282, -0.9855, 1.484, 0.7011, 1.7858]), stroke=1)]"
      ]
     },
     "execution_count": 264,
     "metadata": {},
     "output_type": "execute_result"
    }
   ],
   "source": [
    "df_final.take(3)"
   ]
  },
  {
   "cell_type": "code",
   "execution_count": 265,
   "metadata": {},
   "outputs": [
    {
     "data": {
      "text/plain": [
       "3434"
      ]
     },
     "execution_count": 265,
     "metadata": {},
     "output_type": "execute_result"
    }
   ],
   "source": [
    "train, test = df_final.randomSplit([0.7,0.3])\n",
    "train.count()"
   ]
  },
  {
   "cell_type": "code",
   "execution_count": 266,
   "metadata": {},
   "outputs": [],
   "source": [
    "regre = LogisticRegression(featuresCol='scaler_features', labelCol='stroke')\n",
    "regre_md = regre.fit(train)\n",
    "y_pred = regre_md.transform(test)\n"
   ]
  },
  {
   "cell_type": "code",
   "execution_count": 267,
   "metadata": {},
   "outputs": [
    {
     "name": "stdout",
     "output_type": "stream",
     "text": [
      "+--------------------+------+--------------------+--------------------+----------+\n",
      "|     scaler_features|stroke|       rawPrediction|         probability|prediction|\n",
      "+--------------------+------+--------------------+--------------------+----------+\n",
      "|[-0.8329385620248...|     0|[7.19580050297836...|[0.99925083398471...|       0.0|\n",
      "|[-0.8329385620248...|     0|[7.29740998159318...|[0.99932316771137...|       0.0|\n",
      "|[-0.8329385620248...|     0|[7.47248937714034...|[0.99943181172658...|       0.0|\n",
      "|[-0.8329385620248...|     0|[7.40308972912592...|[0.99939100403178...|       0.0|\n",
      "|[-0.8329385620248...|     0|[7.44163198130407...|[0.99941401603780...|       0.0|\n",
      "+--------------------+------+--------------------+--------------------+----------+\n",
      "only showing top 5 rows\n",
      "\n"
     ]
    }
   ],
   "source": [
    "y_pred.show(5)"
   ]
  },
  {
   "cell_type": "code",
   "execution_count": 268,
   "metadata": {},
   "outputs": [
    {
     "data": {
      "text/plain": [
       "0.9613559322033899"
      ]
     },
     "execution_count": 268,
     "metadata": {},
     "output_type": "execute_result"
    }
   ],
   "source": [
    "from pyspark.ml.evaluation import MulticlassClassificationEvaluator\n",
    "\n",
    "mul_ev = MulticlassClassificationEvaluator(labelCol='stroke', metricName='accuracy')\n",
    "mul_ev.evaluate(y_pred)"
   ]
  }
 ],
 "metadata": {
  "kernelspec": {
   "display_name": "Python 3",
   "language": "python",
   "name": "python3"
  },
  "language_info": {
   "codemirror_mode": {
    "name": "ipython",
    "version": 3
   },
   "file_extension": ".py",
   "mimetype": "text/x-python",
   "name": "python",
   "nbconvert_exporter": "python",
   "pygments_lexer": "ipython3",
   "version": "3.12.3"
  }
 },
 "nbformat": 4,
 "nbformat_minor": 2
}
