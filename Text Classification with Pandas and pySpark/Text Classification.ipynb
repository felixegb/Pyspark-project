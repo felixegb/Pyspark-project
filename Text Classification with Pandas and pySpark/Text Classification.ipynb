{
 "cells": [
  {
   "cell_type": "code",
   "execution_count": 165,
   "metadata": {},
   "outputs": [],
   "source": [
    "import numpy as np\n",
    "import pandas as pd \n",
    "import matplotlib.pyplot  as plt\n",
    "import seaborn as sns\n",
    "from pyspark.sql import SparkSession\n",
    "from pyspark.ml.feature import Tokenizer,StopWordsRemover,CountVectorizer,IDF\n",
    "from pyspark.ml.feature import StringIndexer\n",
    "from pyspark.ml.classification import LogisticRegression\n"
   ]
  },
  {
   "cell_type": "code",
   "execution_count": 166,
   "metadata": {},
   "outputs": [],
   "source": [
    "df_pandas = pd.read_csv('udemy_courses.csv')"
   ]
  },
  {
   "cell_type": "code",
   "execution_count": 167,
   "metadata": {},
   "outputs": [
    {
     "data": {
      "text/html": [
       "<div>\n",
       "<style scoped>\n",
       "    .dataframe tbody tr th:only-of-type {\n",
       "        vertical-align: middle;\n",
       "    }\n",
       "\n",
       "    .dataframe tbody tr th {\n",
       "        vertical-align: top;\n",
       "    }\n",
       "\n",
       "    .dataframe thead th {\n",
       "        text-align: right;\n",
       "    }\n",
       "</style>\n",
       "<table border=\"1\" class=\"dataframe\">\n",
       "  <thead>\n",
       "    <tr style=\"text-align: right;\">\n",
       "      <th></th>\n",
       "      <th>course_id</th>\n",
       "      <th>course_title</th>\n",
       "      <th>url</th>\n",
       "      <th>is_paid</th>\n",
       "      <th>price</th>\n",
       "      <th>num_subscribers</th>\n",
       "      <th>num_reviews</th>\n",
       "      <th>num_lectures</th>\n",
       "      <th>level</th>\n",
       "      <th>content_duration</th>\n",
       "      <th>published_timestamp</th>\n",
       "      <th>subject</th>\n",
       "    </tr>\n",
       "  </thead>\n",
       "  <tbody>\n",
       "    <tr>\n",
       "      <th>0</th>\n",
       "      <td>1070968</td>\n",
       "      <td>Ultimate Investment Banking Course</td>\n",
       "      <td>https://www.udemy.com/ultimate-investment-bank...</td>\n",
       "      <td>True</td>\n",
       "      <td>200</td>\n",
       "      <td>2147</td>\n",
       "      <td>23</td>\n",
       "      <td>51</td>\n",
       "      <td>All Levels</td>\n",
       "      <td>1.5</td>\n",
       "      <td>2017-01-18T20:58:58Z</td>\n",
       "      <td>Business Finance</td>\n",
       "    </tr>\n",
       "    <tr>\n",
       "      <th>1</th>\n",
       "      <td>1113822</td>\n",
       "      <td>Complete GST Course &amp; Certification - Grow You...</td>\n",
       "      <td>https://www.udemy.com/goods-and-services-tax/</td>\n",
       "      <td>True</td>\n",
       "      <td>75</td>\n",
       "      <td>2792</td>\n",
       "      <td>923</td>\n",
       "      <td>274</td>\n",
       "      <td>All Levels</td>\n",
       "      <td>39.0</td>\n",
       "      <td>2017-03-09T16:34:20Z</td>\n",
       "      <td>Business Finance</td>\n",
       "    </tr>\n",
       "    <tr>\n",
       "      <th>2</th>\n",
       "      <td>1006314</td>\n",
       "      <td>Financial Modeling for Business Analysts and C...</td>\n",
       "      <td>https://www.udemy.com/financial-modeling-for-b...</td>\n",
       "      <td>True</td>\n",
       "      <td>45</td>\n",
       "      <td>2174</td>\n",
       "      <td>74</td>\n",
       "      <td>51</td>\n",
       "      <td>Intermediate Level</td>\n",
       "      <td>2.5</td>\n",
       "      <td>2016-12-19T19:26:30Z</td>\n",
       "      <td>Business Finance</td>\n",
       "    </tr>\n",
       "    <tr>\n",
       "      <th>3</th>\n",
       "      <td>1210588</td>\n",
       "      <td>Beginner to Pro - Financial Analysis in Excel ...</td>\n",
       "      <td>https://www.udemy.com/complete-excel-finance-c...</td>\n",
       "      <td>True</td>\n",
       "      <td>95</td>\n",
       "      <td>2451</td>\n",
       "      <td>11</td>\n",
       "      <td>36</td>\n",
       "      <td>All Levels</td>\n",
       "      <td>3.0</td>\n",
       "      <td>2017-05-30T20:07:24Z</td>\n",
       "      <td>Business Finance</td>\n",
       "    </tr>\n",
       "    <tr>\n",
       "      <th>4</th>\n",
       "      <td>1011058</td>\n",
       "      <td>How To Maximize Your Profits Trading Options</td>\n",
       "      <td>https://www.udemy.com/how-to-maximize-your-pro...</td>\n",
       "      <td>True</td>\n",
       "      <td>200</td>\n",
       "      <td>1276</td>\n",
       "      <td>45</td>\n",
       "      <td>26</td>\n",
       "      <td>Intermediate Level</td>\n",
       "      <td>2.0</td>\n",
       "      <td>2016-12-13T14:57:18Z</td>\n",
       "      <td>Business Finance</td>\n",
       "    </tr>\n",
       "  </tbody>\n",
       "</table>\n",
       "</div>"
      ],
      "text/plain": [
       "   course_id                                       course_title  \\\n",
       "0    1070968                 Ultimate Investment Banking Course   \n",
       "1    1113822  Complete GST Course & Certification - Grow You...   \n",
       "2    1006314  Financial Modeling for Business Analysts and C...   \n",
       "3    1210588  Beginner to Pro - Financial Analysis in Excel ...   \n",
       "4    1011058       How To Maximize Your Profits Trading Options   \n",
       "\n",
       "                                                 url  is_paid  price  \\\n",
       "0  https://www.udemy.com/ultimate-investment-bank...     True    200   \n",
       "1      https://www.udemy.com/goods-and-services-tax/     True     75   \n",
       "2  https://www.udemy.com/financial-modeling-for-b...     True     45   \n",
       "3  https://www.udemy.com/complete-excel-finance-c...     True     95   \n",
       "4  https://www.udemy.com/how-to-maximize-your-pro...     True    200   \n",
       "\n",
       "   num_subscribers  num_reviews  num_lectures               level  \\\n",
       "0             2147           23            51          All Levels   \n",
       "1             2792          923           274          All Levels   \n",
       "2             2174           74            51  Intermediate Level   \n",
       "3             2451           11            36          All Levels   \n",
       "4             1276           45            26  Intermediate Level   \n",
       "\n",
       "   content_duration   published_timestamp           subject  \n",
       "0               1.5  2017-01-18T20:58:58Z  Business Finance  \n",
       "1              39.0  2017-03-09T16:34:20Z  Business Finance  \n",
       "2               2.5  2016-12-19T19:26:30Z  Business Finance  \n",
       "3               3.0  2017-05-30T20:07:24Z  Business Finance  \n",
       "4               2.0  2016-12-13T14:57:18Z  Business Finance  "
      ]
     },
     "execution_count": 167,
     "metadata": {},
     "output_type": "execute_result"
    }
   ],
   "source": [
    "df_pandas.head(5)"
   ]
  },
  {
   "cell_type": "code",
   "execution_count": 168,
   "metadata": {},
   "outputs": [
    {
     "data": {
      "text/html": [
       "<div>\n",
       "<style scoped>\n",
       "    .dataframe tbody tr th:only-of-type {\n",
       "        vertical-align: middle;\n",
       "    }\n",
       "\n",
       "    .dataframe tbody tr th {\n",
       "        vertical-align: top;\n",
       "    }\n",
       "\n",
       "    .dataframe thead th {\n",
       "        text-align: right;\n",
       "    }\n",
       "</style>\n",
       "<table border=\"1\" class=\"dataframe\">\n",
       "  <thead>\n",
       "    <tr style=\"text-align: right;\">\n",
       "      <th></th>\n",
       "      <th>course_id</th>\n",
       "      <th>price</th>\n",
       "      <th>num_subscribers</th>\n",
       "      <th>num_reviews</th>\n",
       "      <th>num_lectures</th>\n",
       "      <th>content_duration</th>\n",
       "    </tr>\n",
       "  </thead>\n",
       "  <tbody>\n",
       "    <tr>\n",
       "      <th>count</th>\n",
       "      <td>3.678000e+03</td>\n",
       "      <td>3678.000000</td>\n",
       "      <td>3678.000000</td>\n",
       "      <td>3678.000000</td>\n",
       "      <td>3678.000000</td>\n",
       "      <td>3678.000000</td>\n",
       "    </tr>\n",
       "    <tr>\n",
       "      <th>mean</th>\n",
       "      <td>6.759720e+05</td>\n",
       "      <td>66.049483</td>\n",
       "      <td>3197.150625</td>\n",
       "      <td>156.259108</td>\n",
       "      <td>40.108755</td>\n",
       "      <td>4.094517</td>\n",
       "    </tr>\n",
       "    <tr>\n",
       "      <th>std</th>\n",
       "      <td>3.432732e+05</td>\n",
       "      <td>61.005755</td>\n",
       "      <td>9504.117010</td>\n",
       "      <td>935.452044</td>\n",
       "      <td>50.383346</td>\n",
       "      <td>6.053840</td>\n",
       "    </tr>\n",
       "    <tr>\n",
       "      <th>min</th>\n",
       "      <td>8.324000e+03</td>\n",
       "      <td>0.000000</td>\n",
       "      <td>0.000000</td>\n",
       "      <td>0.000000</td>\n",
       "      <td>0.000000</td>\n",
       "      <td>0.000000</td>\n",
       "    </tr>\n",
       "    <tr>\n",
       "      <th>25%</th>\n",
       "      <td>4.076925e+05</td>\n",
       "      <td>20.000000</td>\n",
       "      <td>111.000000</td>\n",
       "      <td>4.000000</td>\n",
       "      <td>15.000000</td>\n",
       "      <td>1.000000</td>\n",
       "    </tr>\n",
       "    <tr>\n",
       "      <th>50%</th>\n",
       "      <td>6.879170e+05</td>\n",
       "      <td>45.000000</td>\n",
       "      <td>911.500000</td>\n",
       "      <td>18.000000</td>\n",
       "      <td>25.000000</td>\n",
       "      <td>2.000000</td>\n",
       "    </tr>\n",
       "    <tr>\n",
       "      <th>75%</th>\n",
       "      <td>9.613555e+05</td>\n",
       "      <td>95.000000</td>\n",
       "      <td>2546.000000</td>\n",
       "      <td>67.000000</td>\n",
       "      <td>45.750000</td>\n",
       "      <td>4.500000</td>\n",
       "    </tr>\n",
       "    <tr>\n",
       "      <th>max</th>\n",
       "      <td>1.282064e+06</td>\n",
       "      <td>200.000000</td>\n",
       "      <td>268923.000000</td>\n",
       "      <td>27445.000000</td>\n",
       "      <td>779.000000</td>\n",
       "      <td>78.500000</td>\n",
       "    </tr>\n",
       "  </tbody>\n",
       "</table>\n",
       "</div>"
      ],
      "text/plain": [
       "          course_id        price  num_subscribers   num_reviews  num_lectures  \\\n",
       "count  3.678000e+03  3678.000000      3678.000000   3678.000000   3678.000000   \n",
       "mean   6.759720e+05    66.049483      3197.150625    156.259108     40.108755   \n",
       "std    3.432732e+05    61.005755      9504.117010    935.452044     50.383346   \n",
       "min    8.324000e+03     0.000000         0.000000      0.000000      0.000000   \n",
       "25%    4.076925e+05    20.000000       111.000000      4.000000     15.000000   \n",
       "50%    6.879170e+05    45.000000       911.500000     18.000000     25.000000   \n",
       "75%    9.613555e+05    95.000000      2546.000000     67.000000     45.750000   \n",
       "max    1.282064e+06   200.000000    268923.000000  27445.000000    779.000000   \n",
       "\n",
       "       content_duration  \n",
       "count       3678.000000  \n",
       "mean           4.094517  \n",
       "std            6.053840  \n",
       "min            0.000000  \n",
       "25%            1.000000  \n",
       "50%            2.000000  \n",
       "75%            4.500000  \n",
       "max           78.500000  "
      ]
     },
     "execution_count": 168,
     "metadata": {},
     "output_type": "execute_result"
    }
   ],
   "source": [
    "df_pandas.describe()"
   ]
  },
  {
   "cell_type": "code",
   "execution_count": 169,
   "metadata": {},
   "outputs": [
    {
     "name": "stdout",
     "output_type": "stream",
     "text": [
      "<class 'pandas.core.frame.DataFrame'>\n",
      "RangeIndex: 3678 entries, 0 to 3677\n",
      "Data columns (total 12 columns):\n",
      " #   Column               Non-Null Count  Dtype  \n",
      "---  ------               --------------  -----  \n",
      " 0   course_id            3678 non-null   int64  \n",
      " 1   course_title         3678 non-null   object \n",
      " 2   url                  3678 non-null   object \n",
      " 3   is_paid              3678 non-null   bool   \n",
      " 4   price                3678 non-null   int64  \n",
      " 5   num_subscribers      3678 non-null   int64  \n",
      " 6   num_reviews          3678 non-null   int64  \n",
      " 7   num_lectures         3678 non-null   int64  \n",
      " 8   level                3678 non-null   object \n",
      " 9   content_duration     3678 non-null   float64\n",
      " 10  published_timestamp  3678 non-null   object \n",
      " 11  subject              3678 non-null   object \n",
      "dtypes: bool(1), float64(1), int64(5), object(5)\n",
      "memory usage: 319.8+ KB\n"
     ]
    }
   ],
   "source": [
    "df_pandas.info()"
   ]
  },
  {
   "cell_type": "code",
   "execution_count": 170,
   "metadata": {},
   "outputs": [],
   "source": [
    "df_pandas.drop(['course_id','published_timestamp','url'],axis=1,inplace=True)"
   ]
  },
  {
   "cell_type": "code",
   "execution_count": 171,
   "metadata": {},
   "outputs": [
    {
     "data": {
      "text/html": [
       "<div>\n",
       "<style scoped>\n",
       "    .dataframe tbody tr th:only-of-type {\n",
       "        vertical-align: middle;\n",
       "    }\n",
       "\n",
       "    .dataframe tbody tr th {\n",
       "        vertical-align: top;\n",
       "    }\n",
       "\n",
       "    .dataframe thead th {\n",
       "        text-align: right;\n",
       "    }\n",
       "</style>\n",
       "<table border=\"1\" class=\"dataframe\">\n",
       "  <thead>\n",
       "    <tr style=\"text-align: right;\">\n",
       "      <th></th>\n",
       "      <th>course_title</th>\n",
       "      <th>is_paid</th>\n",
       "      <th>price</th>\n",
       "      <th>num_subscribers</th>\n",
       "      <th>num_reviews</th>\n",
       "      <th>num_lectures</th>\n",
       "      <th>level</th>\n",
       "      <th>content_duration</th>\n",
       "      <th>subject</th>\n",
       "    </tr>\n",
       "  </thead>\n",
       "  <tbody>\n",
       "    <tr>\n",
       "      <th>0</th>\n",
       "      <td>Ultimate Investment Banking Course</td>\n",
       "      <td>True</td>\n",
       "      <td>200</td>\n",
       "      <td>2147</td>\n",
       "      <td>23</td>\n",
       "      <td>51</td>\n",
       "      <td>All Levels</td>\n",
       "      <td>1.5</td>\n",
       "      <td>Business Finance</td>\n",
       "    </tr>\n",
       "    <tr>\n",
       "      <th>1</th>\n",
       "      <td>Complete GST Course &amp; Certification - Grow You...</td>\n",
       "      <td>True</td>\n",
       "      <td>75</td>\n",
       "      <td>2792</td>\n",
       "      <td>923</td>\n",
       "      <td>274</td>\n",
       "      <td>All Levels</td>\n",
       "      <td>39.0</td>\n",
       "      <td>Business Finance</td>\n",
       "    </tr>\n",
       "    <tr>\n",
       "      <th>2</th>\n",
       "      <td>Financial Modeling for Business Analysts and C...</td>\n",
       "      <td>True</td>\n",
       "      <td>45</td>\n",
       "      <td>2174</td>\n",
       "      <td>74</td>\n",
       "      <td>51</td>\n",
       "      <td>Intermediate Level</td>\n",
       "      <td>2.5</td>\n",
       "      <td>Business Finance</td>\n",
       "    </tr>\n",
       "  </tbody>\n",
       "</table>\n",
       "</div>"
      ],
      "text/plain": [
       "                                        course_title  is_paid  price  \\\n",
       "0                 Ultimate Investment Banking Course     True    200   \n",
       "1  Complete GST Course & Certification - Grow You...     True     75   \n",
       "2  Financial Modeling for Business Analysts and C...     True     45   \n",
       "\n",
       "   num_subscribers  num_reviews  num_lectures               level  \\\n",
       "0             2147           23            51          All Levels   \n",
       "1             2792          923           274          All Levels   \n",
       "2             2174           74            51  Intermediate Level   \n",
       "\n",
       "   content_duration           subject  \n",
       "0               1.5  Business Finance  \n",
       "1              39.0  Business Finance  \n",
       "2               2.5  Business Finance  "
      ]
     },
     "execution_count": 171,
     "metadata": {},
     "output_type": "execute_result"
    }
   ],
   "source": [
    "df_pandas.head(3)"
   ]
  },
  {
   "cell_type": "code",
   "execution_count": 172,
   "metadata": {},
   "outputs": [
    {
     "data": {
      "text/html": [
       "<div>\n",
       "<style scoped>\n",
       "    .dataframe tbody tr th:only-of-type {\n",
       "        vertical-align: middle;\n",
       "    }\n",
       "\n",
       "    .dataframe tbody tr th {\n",
       "        vertical-align: top;\n",
       "    }\n",
       "\n",
       "    .dataframe thead th {\n",
       "        text-align: right;\n",
       "    }\n",
       "</style>\n",
       "<table border=\"1\" class=\"dataframe\">\n",
       "  <thead>\n",
       "    <tr style=\"text-align: right;\">\n",
       "      <th></th>\n",
       "      <th>course_title</th>\n",
       "      <th>is_paid</th>\n",
       "      <th>price</th>\n",
       "      <th>num_subscribers</th>\n",
       "      <th>num_reviews</th>\n",
       "      <th>num_lectures</th>\n",
       "      <th>level</th>\n",
       "      <th>content_duration</th>\n",
       "      <th>subject</th>\n",
       "    </tr>\n",
       "  </thead>\n",
       "  <tbody>\n",
       "    <tr>\n",
       "      <th>787</th>\n",
       "      <td>Essentials of money value: Get a financial Life !</td>\n",
       "      <td>True</td>\n",
       "      <td>20</td>\n",
       "      <td>0</td>\n",
       "      <td>0</td>\n",
       "      <td>20</td>\n",
       "      <td>All Levels</td>\n",
       "      <td>0.616667</td>\n",
       "      <td>Business Finance</td>\n",
       "    </tr>\n",
       "    <tr>\n",
       "      <th>788</th>\n",
       "      <td>Introduction to Forex Trading Business For Beg...</td>\n",
       "      <td>True</td>\n",
       "      <td>20</td>\n",
       "      <td>0</td>\n",
       "      <td>0</td>\n",
       "      <td>27</td>\n",
       "      <td>Beginner Level</td>\n",
       "      <td>1.500000</td>\n",
       "      <td>Business Finance</td>\n",
       "    </tr>\n",
       "    <tr>\n",
       "      <th>894</th>\n",
       "      <td>Understanding Financial Statements</td>\n",
       "      <td>True</td>\n",
       "      <td>25</td>\n",
       "      <td>0</td>\n",
       "      <td>0</td>\n",
       "      <td>10</td>\n",
       "      <td>All Levels</td>\n",
       "      <td>1.000000</td>\n",
       "      <td>Business Finance</td>\n",
       "    </tr>\n",
       "    <tr>\n",
       "      <th>1100</th>\n",
       "      <td>CFA Level 2- Quantitative Methods</td>\n",
       "      <td>True</td>\n",
       "      <td>40</td>\n",
       "      <td>0</td>\n",
       "      <td>0</td>\n",
       "      <td>35</td>\n",
       "      <td>All Levels</td>\n",
       "      <td>5.500000</td>\n",
       "      <td>Business Finance</td>\n",
       "    </tr>\n",
       "    <tr>\n",
       "      <th>1473</th>\n",
       "      <td>MicroStation - Células</td>\n",
       "      <td>True</td>\n",
       "      <td>20</td>\n",
       "      <td>0</td>\n",
       "      <td>0</td>\n",
       "      <td>9</td>\n",
       "      <td>Beginner Level</td>\n",
       "      <td>0.616667</td>\n",
       "      <td>Graphic Design</td>\n",
       "    </tr>\n",
       "    <tr>\n",
       "      <th>2561</th>\n",
       "      <td>Learn Web Designing &amp; HTML5/CSS3 Essentials in...</td>\n",
       "      <td>True</td>\n",
       "      <td>75</td>\n",
       "      <td>43285</td>\n",
       "      <td>525</td>\n",
       "      <td>24</td>\n",
       "      <td>All Levels</td>\n",
       "      <td>4.000000</td>\n",
       "      <td>Web Development</td>\n",
       "    </tr>\n",
       "  </tbody>\n",
       "</table>\n",
       "</div>"
      ],
      "text/plain": [
       "                                           course_title  is_paid  price  \\\n",
       "787   Essentials of money value: Get a financial Life !     True     20   \n",
       "788   Introduction to Forex Trading Business For Beg...     True     20   \n",
       "894                  Understanding Financial Statements     True     25   \n",
       "1100                  CFA Level 2- Quantitative Methods     True     40   \n",
       "1473                             MicroStation - Células     True     20   \n",
       "2561  Learn Web Designing & HTML5/CSS3 Essentials in...     True     75   \n",
       "\n",
       "      num_subscribers  num_reviews  num_lectures           level  \\\n",
       "787                 0            0            20      All Levels   \n",
       "788                 0            0            27  Beginner Level   \n",
       "894                 0            0            10      All Levels   \n",
       "1100                0            0            35      All Levels   \n",
       "1473                0            0             9  Beginner Level   \n",
       "2561            43285          525            24      All Levels   \n",
       "\n",
       "      content_duration           subject  \n",
       "787           0.616667  Business Finance  \n",
       "788           1.500000  Business Finance  \n",
       "894           1.000000  Business Finance  \n",
       "1100          5.500000  Business Finance  \n",
       "1473          0.616667    Graphic Design  \n",
       "2561          4.000000   Web Development  "
      ]
     },
     "execution_count": 172,
     "metadata": {},
     "output_type": "execute_result"
    }
   ],
   "source": [
    "df_pandas[df_pandas.duplicated()]"
   ]
  },
  {
   "cell_type": "code",
   "execution_count": 173,
   "metadata": {},
   "outputs": [],
   "source": [
    "df_pandas.drop_duplicates(inplace=True)"
   ]
  },
  {
   "cell_type": "code",
   "execution_count": 174,
   "metadata": {},
   "outputs": [
    {
     "data": {
      "text/html": [
       "<div>\n",
       "<style scoped>\n",
       "    .dataframe tbody tr th:only-of-type {\n",
       "        vertical-align: middle;\n",
       "    }\n",
       "\n",
       "    .dataframe tbody tr th {\n",
       "        vertical-align: top;\n",
       "    }\n",
       "\n",
       "    .dataframe thead th {\n",
       "        text-align: right;\n",
       "    }\n",
       "</style>\n",
       "<table border=\"1\" class=\"dataframe\">\n",
       "  <thead>\n",
       "    <tr style=\"text-align: right;\">\n",
       "      <th></th>\n",
       "      <th>course_title</th>\n",
       "      <th>is_paid</th>\n",
       "      <th>price</th>\n",
       "      <th>num_subscribers</th>\n",
       "      <th>num_reviews</th>\n",
       "      <th>num_lectures</th>\n",
       "      <th>level</th>\n",
       "      <th>content_duration</th>\n",
       "      <th>subject</th>\n",
       "    </tr>\n",
       "  </thead>\n",
       "  <tbody>\n",
       "  </tbody>\n",
       "</table>\n",
       "</div>"
      ],
      "text/plain": [
       "Empty DataFrame\n",
       "Columns: [course_title, is_paid, price, num_subscribers, num_reviews, num_lectures, level, content_duration, subject]\n",
       "Index: []"
      ]
     },
     "execution_count": 174,
     "metadata": {},
     "output_type": "execute_result"
    }
   ],
   "source": [
    "df_pandas[df_pandas.duplicated()]"
   ]
  },
  {
   "cell_type": "code",
   "execution_count": 175,
   "metadata": {},
   "outputs": [
    {
     "name": "stderr",
     "output_type": "stream",
     "text": [
      "C:\\Users\\carlos\\AppData\\Local\\Temp\\ipykernel_33412\\2365349361.py:3: FutureWarning: \n",
      "\n",
      "Passing `palette` without assigning `hue` is deprecated and will be removed in v0.14.0. Assign the `x` variable to `hue` and set `legend=False` for the same effect.\n",
      "\n",
      "  sns.countplot(x='is_paid', data=df_pandas, palette='coolwarm')\n"
     ]
    },
    {
     "data": {
      "image/png": "[encoded data removed]",
      "text/plain": [
       "<Figure size 1000x600 with 1 Axes>"
      ]
     },
     "metadata": {},
     "output_type": "display_data"
    },
    {
     "data": {
      "text/plain": [
       "subject              is_paid\n",
       "Business Finance     True       1095\n",
       "Web Development      True       1066\n",
       "Musical Instruments  True        634\n",
       "Graphic Design       True        567\n",
       "Web Development      False       133\n",
       "Business Finance     False        96\n",
       "Musical Instruments  False        46\n",
       "Graphic Design       False        35\n",
       "Name: count, dtype: int64"
      ]
     },
     "execution_count": 175,
     "metadata": {},
     "output_type": "execute_result"
    }
   ],
   "source": [
    "\n",
    "plt.figure(figsize=(10, 6))\n",
    "plt.title(\"Distribution of Paid and Free Courses\", fontsize=16)\n",
    "sns.countplot(x='is_paid', data=df_pandas, palette='coolwarm')\n",
    "plt.xlabel(\"Is Paid\", fontsize=14)\n",
    "plt.ylabel(\"Count\", fontsize=14)\n",
    "plt.tight_layout()\n",
    "plt.show()\n",
    "df_pandas[['subject', 'is_paid',]].value_counts()"
   ]
  },
  {
   "cell_type": "code",
   "execution_count": 176,
   "metadata": {},
   "outputs": [
    {
     "data": {
      "text/html": [
       "<div>\n",
       "<style scoped>\n",
       "    .dataframe tbody tr th:only-of-type {\n",
       "        vertical-align: middle;\n",
       "    }\n",
       "\n",
       "    .dataframe tbody tr th {\n",
       "        vertical-align: top;\n",
       "    }\n",
       "\n",
       "    .dataframe thead th {\n",
       "        text-align: right;\n",
       "    }\n",
       "</style>\n",
       "<table border=\"1\" class=\"dataframe\">\n",
       "  <thead>\n",
       "    <tr style=\"text-align: right;\">\n",
       "      <th></th>\n",
       "      <th>course_title</th>\n",
       "      <th>subject</th>\n",
       "      <th>price</th>\n",
       "    </tr>\n",
       "  </thead>\n",
       "  <tbody>\n",
       "    <tr>\n",
       "      <th>0</th>\n",
       "      <td>Ultimate Investment Banking Course</td>\n",
       "      <td>Business Finance</td>\n",
       "      <td>200</td>\n",
       "    </tr>\n",
       "    <tr>\n",
       "      <th>3409</th>\n",
       "      <td>Complete Login and Registration System in PHP ...</td>\n",
       "      <td>Web Development</td>\n",
       "      <td>200</td>\n",
       "    </tr>\n",
       "    <tr>\n",
       "      <th>2653</th>\n",
       "      <td>Learn to code, Become a Web Developer and Mast...</td>\n",
       "      <td>Web Development</td>\n",
       "      <td>200</td>\n",
       "    </tr>\n",
       "    <tr>\n",
       "      <th>2651</th>\n",
       "      <td>HTML and HTML5 For Beginners 2016</td>\n",
       "      <td>Web Development</td>\n",
       "      <td>200</td>\n",
       "    </tr>\n",
       "    <tr>\n",
       "      <th>304</th>\n",
       "      <td>Situational Trading: Proven Option Strategy fo...</td>\n",
       "      <td>Business Finance</td>\n",
       "      <td>200</td>\n",
       "    </tr>\n",
       "  </tbody>\n",
       "</table>\n",
       "</div>"
      ],
      "text/plain": [
       "                                           course_title           subject  \\\n",
       "0                    Ultimate Investment Banking Course  Business Finance   \n",
       "3409  Complete Login and Registration System in PHP ...   Web Development   \n",
       "2653  Learn to code, Become a Web Developer and Mast...   Web Development   \n",
       "2651                  HTML and HTML5 For Beginners 2016   Web Development   \n",
       "304   Situational Trading: Proven Option Strategy fo...  Business Finance   \n",
       "\n",
       "      price  \n",
       "0       200  \n",
       "3409    200  \n",
       "2653    200  \n",
       "2651    200  \n",
       "304     200  "
      ]
     },
     "execution_count": 176,
     "metadata": {},
     "output_type": "execute_result"
    }
   ],
   "source": [
    "df_pandas.sort_values(by='price', ascending=False).head(5)[['course_title','subject', 'price']]"
   ]
  },
  {
   "cell_type": "code",
   "execution_count": 177,
   "metadata": {},
   "outputs": [
    {
     "data": {
      "text/html": [
       "<div>\n",
       "<style scoped>\n",
       "    .dataframe tbody tr th:only-of-type {\n",
       "        vertical-align: middle;\n",
       "    }\n",
       "\n",
       "    .dataframe tbody tr th {\n",
       "        vertical-align: top;\n",
       "    }\n",
       "\n",
       "    .dataframe thead th {\n",
       "        text-align: right;\n",
       "    }\n",
       "</style>\n",
       "<table border=\"1\" class=\"dataframe\">\n",
       "  <thead>\n",
       "    <tr style=\"text-align: right;\">\n",
       "      <th></th>\n",
       "      <th>course_title</th>\n",
       "      <th>is_paid</th>\n",
       "      <th>price</th>\n",
       "      <th>num_subscribers</th>\n",
       "      <th>num_reviews</th>\n",
       "      <th>num_lectures</th>\n",
       "      <th>level</th>\n",
       "      <th>content_duration</th>\n",
       "      <th>subject</th>\n",
       "      <th>earnings</th>\n",
       "    </tr>\n",
       "  </thead>\n",
       "  <tbody>\n",
       "    <tr>\n",
       "      <th>0</th>\n",
       "      <td>Ultimate Investment Banking Course</td>\n",
       "      <td>True</td>\n",
       "      <td>200</td>\n",
       "      <td>2147</td>\n",
       "      <td>23</td>\n",
       "      <td>51</td>\n",
       "      <td>All Levels</td>\n",
       "      <td>1.5</td>\n",
       "      <td>Business Finance</td>\n",
       "      <td>429400</td>\n",
       "    </tr>\n",
       "    <tr>\n",
       "      <th>1</th>\n",
       "      <td>Complete GST Course &amp; Certification - Grow You...</td>\n",
       "      <td>True</td>\n",
       "      <td>75</td>\n",
       "      <td>2792</td>\n",
       "      <td>923</td>\n",
       "      <td>274</td>\n",
       "      <td>All Levels</td>\n",
       "      <td>39.0</td>\n",
       "      <td>Business Finance</td>\n",
       "      <td>209400</td>\n",
       "    </tr>\n",
       "    <tr>\n",
       "      <th>2</th>\n",
       "      <td>Financial Modeling for Business Analysts and C...</td>\n",
       "      <td>True</td>\n",
       "      <td>45</td>\n",
       "      <td>2174</td>\n",
       "      <td>74</td>\n",
       "      <td>51</td>\n",
       "      <td>Intermediate Level</td>\n",
       "      <td>2.5</td>\n",
       "      <td>Business Finance</td>\n",
       "      <td>97830</td>\n",
       "    </tr>\n",
       "    <tr>\n",
       "      <th>3</th>\n",
       "      <td>Beginner to Pro - Financial Analysis in Excel ...</td>\n",
       "      <td>True</td>\n",
       "      <td>95</td>\n",
       "      <td>2451</td>\n",
       "      <td>11</td>\n",
       "      <td>36</td>\n",
       "      <td>All Levels</td>\n",
       "      <td>3.0</td>\n",
       "      <td>Business Finance</td>\n",
       "      <td>232845</td>\n",
       "    </tr>\n",
       "    <tr>\n",
       "      <th>4</th>\n",
       "      <td>How To Maximize Your Profits Trading Options</td>\n",
       "      <td>True</td>\n",
       "      <td>200</td>\n",
       "      <td>1276</td>\n",
       "      <td>45</td>\n",
       "      <td>26</td>\n",
       "      <td>Intermediate Level</td>\n",
       "      <td>2.0</td>\n",
       "      <td>Business Finance</td>\n",
       "      <td>255200</td>\n",
       "    </tr>\n",
       "  </tbody>\n",
       "</table>\n",
       "</div>"
      ],
      "text/plain": [
       "                                        course_title  is_paid  price  \\\n",
       "0                 Ultimate Investment Banking Course     True    200   \n",
       "1  Complete GST Course & Certification - Grow You...     True     75   \n",
       "2  Financial Modeling for Business Analysts and C...     True     45   \n",
       "3  Beginner to Pro - Financial Analysis in Excel ...     True     95   \n",
       "4       How To Maximize Your Profits Trading Options     True    200   \n",
       "\n",
       "   num_subscribers  num_reviews  num_lectures               level  \\\n",
       "0             2147           23            51          All Levels   \n",
       "1             2792          923           274          All Levels   \n",
       "2             2174           74            51  Intermediate Level   \n",
       "3             2451           11            36          All Levels   \n",
       "4             1276           45            26  Intermediate Level   \n",
       "\n",
       "   content_duration           subject  earnings  \n",
       "0               1.5  Business Finance    429400  \n",
       "1              39.0  Business Finance    209400  \n",
       "2               2.5  Business Finance     97830  \n",
       "3               3.0  Business Finance    232845  \n",
       "4               2.0  Business Finance    255200  "
      ]
     },
     "execution_count": 177,
     "metadata": {},
     "output_type": "execute_result"
    }
   ],
   "source": [
    "df_pandas['earnings']=df_pandas['price']*df_pandas['num_subscribers']\n",
    "df_pandas.head(5)"
   ]
  },
  {
   "cell_type": "code",
   "execution_count": 178,
   "metadata": {},
   "outputs": [
    {
     "data": {
      "text/plain": [
       "Text(0.5, 1.0, 'Content Duration vs Num Subscribers')"
      ]
     },
     "execution_count": 178,
     "metadata": {},
     "output_type": "execute_result"
    },
    {
     "data": {
      "image/png": "[encoded data removed]",
      "text/plain": [
       "<Figure size 1600x600 with 2 Axes>"
      ]
     },
     "metadata": {},
     "output_type": "display_data"
    }
   ],
   "source": [
    "fig, axes = plt.subplots(nrows=1, ncols=2, figsize=(16,6))\n",
    "\n",
    "sns.regplot(x='price', y='content_duration', color='#C126B2', data=df_pandas, ax=axes[0])\n",
    "axes[0].set_title('Price vs Content Duration')\n",
    "\n",
    "sns.regplot(x='content_duration', y='num_subscribers', color='#C126B2', data=df_pandas, ax=axes[1])\n",
    "axes[1].set_title('Content Duration vs Num Subscribers')"
   ]
  },
  {
   "cell_type": "code",
   "execution_count": 179,
   "metadata": {},
   "outputs": [
    {
     "data": {
      "text/plain": [
       "<Axes: xlabel='subject', ylabel='earnings'>"
      ]
     },
     "execution_count": 179,
     "metadata": {},
     "output_type": "execute_result"
    },
    {
     "data": {
      "image/png": "[encoded data removed]",
      "text/plain": [
       "<Figure size 1000x800 with 1 Axes>"
      ]
     },
     "metadata": {},
     "output_type": "display_data"
    }
   ],
   "source": [
    "plt.figure(figsize=(10,8))\n",
    "sns.barplot(x='subject',y='earnings',hue='level',data=df_pandas)"
   ]
  },
  {
   "cell_type": "code",
   "execution_count": 180,
   "metadata": {},
   "outputs": [],
   "source": [
    "   \n",
    "spark = SparkSession.builder \\\n",
    "    .appName(\"Pandas to Spark with Arrow\") \\\n",
    "    .config(\"spark.sql.execution.arrow.pyspark.enabled\", \"true\") \\\n",
    "    .getOrCreate()"
   ]
  },
  {
   "cell_type": "code",
   "execution_count": 181,
   "metadata": {},
   "outputs": [
    {
     "data": {
      "text/plain": [
       "pandas.core.frame.DataFrame"
      ]
     },
     "execution_count": 181,
     "metadata": {},
     "output_type": "execute_result"
    }
   ],
   "source": [
    "type(df_pandas)"
   ]
  },
  {
   "cell_type": "code",
   "execution_count": 182,
   "metadata": {},
   "outputs": [
    {
     "data": {
      "text/plain": [
       "pyspark.sql.dataframe.DataFrame"
      ]
     },
     "execution_count": 182,
     "metadata": {},
     "output_type": "execute_result"
    }
   ],
   "source": [
    "df_new_pyspark = spark.createDataFrame(df_pandas)\n",
    "type(df_new_pyspark)"
   ]
  },
  {
   "cell_type": "code",
   "execution_count": 183,
   "metadata": {},
   "outputs": [
    {
     "name": "stdout",
     "output_type": "stream",
     "text": [
      "+--------------------+-------+-----+---------------+-----------+------------+------------------+------------------+----------------+--------+\n",
      "|        course_title|is_paid|price|num_subscribers|num_reviews|num_lectures|             level|  content_duration|         subject|earnings|\n",
      "+--------------------+-------+-----+---------------+-----------+------------+------------------+------------------+----------------+--------+\n",
      "|Ultimate Investme...|   true|  200|           2147|         23|          51|        All Levels|               1.5|Business Finance|  429400|\n",
      "|Complete GST Cour...|   true|   75|           2792|        923|         274|        All Levels|              39.0|Business Finance|  209400|\n",
      "|Financial Modelin...|   true|   45|           2174|         74|          51|Intermediate Level|               2.5|Business Finance|   97830|\n",
      "|Beginner to Pro -...|   true|   95|           2451|         11|          36|        All Levels|               3.0|Business Finance|  232845|\n",
      "|How To Maximize Y...|   true|  200|           1276|         45|          26|Intermediate Level|               2.0|Business Finance|  255200|\n",
      "|Trading Penny Sto...|   true|  150|           9221|        138|          25|        All Levels|               3.0|Business Finance| 1383150|\n",
      "|Investing And Tra...|   true|   65|           1540|        178|          26|    Beginner Level|               1.0|Business Finance|  100100|\n",
      "|Trading Stock Cha...|   true|   95|           2917|        148|          23|        All Levels|               2.5|Business Finance|  277115|\n",
      "|Options Trading 3...|   true|  195|           5172|         34|          38|      Expert Level|               2.5|Business Finance| 1008540|\n",
      "|The Only Investme...|   true|  200|            827|         14|          15|        All Levels|               1.0|Business Finance|  165400|\n",
      "|Forex Trading Sec...|   true|  200|           4284|         93|          76|        All Levels|               5.0|Business Finance|  856800|\n",
      "|Trading Options W...|   true|  200|           1380|         42|          17|        All Levels|               1.0|Business Finance|  276000|\n",
      "|Financial Managem...|   true|   30|           3607|         21|          19|        All Levels|               1.5|Business Finance|  108210|\n",
      "|Forex Trading Cou...|   true|  195|           4061|         52|          16|        All Levels|               2.0|Business Finance|  791895|\n",
      "|Python Algo Tradi...|   true|  200|            294|         19|          42|        All Levels|               7.0|Business Finance|   58800|\n",
      "|Short Selling: Le...|   true|   75|           2276|        106|          19|Intermediate Level|               1.5|Business Finance|  170700|\n",
      "|Basic Technical A...|   true|   20|           4919|         79|          16|    Beginner Level|               1.5|Business Finance|   98380|\n",
      "|The Complete Char...|   true|  200|           2666|        115|          52|        All Levels|               4.0|Business Finance|  533200|\n",
      "|7 Deadly Mistakes...|   true|   50|           5354|         24|          23|        All Levels|               1.5|Business Finance|  267700|\n",
      "|Financial Stateme...|   true|   95|           8095|        249|          12|    Beginner Level|0.5833333333333334|Business Finance|  769025|\n",
      "+--------------------+-------+-----+---------------+-----------+------------+------------------+------------------+----------------+--------+\n",
      "only showing top 20 rows\n",
      "\n"
     ]
    }
   ],
   "source": [
    "df_new_pyspark.show()"
   ]
  },
  {
   "cell_type": "code",
   "execution_count": 184,
   "metadata": {},
   "outputs": [
    {
     "name": "stdout",
     "output_type": "stream",
     "text": [
      "+-------------------+-----+\n",
      "|            subject|count|\n",
      "+-------------------+-----+\n",
      "|   Business Finance| 1191|\n",
      "|     Graphic Design|  602|\n",
      "|Musical Instruments|  680|\n",
      "|    Web Development| 1199|\n",
      "+-------------------+-----+\n",
      "\n"
     ]
    }
   ],
   "source": [
    "df_new_pyspark.groupBy('subject').count().show()"
   ]
  },
  {
   "cell_type": "code",
   "execution_count": 185,
   "metadata": {},
   "outputs": [],
   "source": [
    "tokenizer = Tokenizer(inputCol='course_title',outputCol='mytokens')\n",
    "stopwords_remover = StopWordsRemover(inputCol='mytokens',outputCol='filtered_tokens')\n",
    "vectorizer = CountVectorizer(inputCol='filtered_tokens',outputCol='rawFeatures')\n",
    "idf = IDF(inputCol='rawFeatures',outputCol='vectorizedFeatures')"
   ]
  },
  {
   "cell_type": "code",
   "execution_count": 186,
   "metadata": {},
   "outputs": [],
   "source": [
    "labelEncoder = StringIndexer(inputCols=['subject','level'],outputCols=['subject_indexer','level_indexer']).fit(df_new_pyspark)\n",
    "df = labelEncoder.transform(df_new_pyspark)"
   ]
  },
  {
   "cell_type": "code",
   "execution_count": 187,
   "metadata": {},
   "outputs": [
    {
     "name": "stdout",
     "output_type": "stream",
     "text": [
      "+--------------------+-------+-----+---------------+-----------+------------+------------------+----------------+----------------+--------+---------------+-------------+\n",
      "|        course_title|is_paid|price|num_subscribers|num_reviews|num_lectures|             level|content_duration|         subject|earnings|subject_indexer|level_indexer|\n",
      "+--------------------+-------+-----+---------------+-----------+------------+------------------+----------------+----------------+--------+---------------+-------------+\n",
      "|Ultimate Investme...|   true|  200|           2147|         23|          51|        All Levels|             1.5|Business Finance|  429400|            1.0|          0.0|\n",
      "|Complete GST Cour...|   true|   75|           2792|        923|         274|        All Levels|            39.0|Business Finance|  209400|            1.0|          0.0|\n",
      "|Financial Modelin...|   true|   45|           2174|         74|          51|Intermediate Level|             2.5|Business Finance|   97830|            1.0|          2.0|\n",
      "|Beginner to Pro -...|   true|   95|           2451|         11|          36|        All Levels|             3.0|Business Finance|  232845|            1.0|          0.0|\n",
      "|How To Maximize Y...|   true|  200|           1276|         45|          26|Intermediate Level|             2.0|Business Finance|  255200|            1.0|          2.0|\n",
      "+--------------------+-------+-----+---------------+-----------+------------+------------------+----------------+----------------+--------+---------------+-------------+\n",
      "only showing top 5 rows\n",
      "\n"
     ]
    }
   ],
   "source": [
    "df.show(5)"
   ]
  },
  {
   "cell_type": "code",
   "execution_count": 188,
   "metadata": {},
   "outputs": [
    {
     "data": {
      "text/plain": [
       "[('Web Development',\n",
       "  'Business Finance',\n",
       "  'Musical Instruments',\n",
       "  'Graphic Design'),\n",
       " ('All Levels', 'Beginner Level', 'Intermediate Level', 'Expert Level')]"
      ]
     },
     "execution_count": 188,
     "metadata": {},
     "output_type": "execute_result"
    }
   ],
   "source": [
    "labelEncoder.labelsArray"
   ]
  },
  {
   "cell_type": "code",
   "execution_count": 189,
   "metadata": {},
   "outputs": [
    {
     "name": "stdout",
     "output_type": "stream",
     "text": [
      "root\n",
      " |-- course_title: string (nullable = true)\n",
      " |-- is_paid: boolean (nullable = true)\n",
      " |-- price: long (nullable = true)\n",
      " |-- num_subscribers: long (nullable = true)\n",
      " |-- num_reviews: long (nullable = true)\n",
      " |-- num_lectures: long (nullable = true)\n",
      " |-- level: string (nullable = true)\n",
      " |-- content_duration: double (nullable = true)\n",
      " |-- subject: string (nullable = true)\n",
      " |-- earnings: long (nullable = true)\n",
      " |-- subject_indexer: double (nullable = false)\n",
      " |-- level_indexer: double (nullable = false)\n",
      "\n"
     ]
    }
   ],
   "source": [
    "df.printSchema()"
   ]
  },
  {
   "cell_type": "code",
   "execution_count": 190,
   "metadata": {},
   "outputs": [],
   "source": [
    "df = df.select('course_title', 'level_indexer','subject','subject_indexer')"
   ]
  },
  {
   "cell_type": "code",
   "execution_count": 191,
   "metadata": {},
   "outputs": [
    {
     "name": "stdout",
     "output_type": "stream",
     "text": [
      "+--------------------+-------------+----------------+---------------+\n",
      "|        course_title|level_indexer|         subject|subject_indexer|\n",
      "+--------------------+-------------+----------------+---------------+\n",
      "|Ultimate Investme...|          0.0|Business Finance|            1.0|\n",
      "|Complete GST Cour...|          0.0|Business Finance|            1.0|\n",
      "|Financial Modelin...|          2.0|Business Finance|            1.0|\n",
      "|Beginner to Pro -...|          0.0|Business Finance|            1.0|\n",
      "|How To Maximize Y...|          2.0|Business Finance|            1.0|\n",
      "+--------------------+-------------+----------------+---------------+\n",
      "only showing top 5 rows\n",
      "\n"
     ]
    }
   ],
   "source": [
    "df.show(5)"
   ]
  },
  {
   "cell_type": "code",
   "execution_count": 192,
   "metadata": {},
   "outputs": [],
   "source": [
    "train ,test = df.randomSplit((0.7,0.3),seed=45)"
   ]
  },
  {
   "cell_type": "code",
   "execution_count": 193,
   "metadata": {},
   "outputs": [
    {
     "data": {
      "text/plain": [
       "2559"
      ]
     },
     "execution_count": 193,
     "metadata": {},
     "output_type": "execute_result"
    }
   ],
   "source": [
    "train.count()"
   ]
  },
  {
   "cell_type": "code",
   "execution_count": 194,
   "metadata": {},
   "outputs": [],
   "source": [
    "lr = LogisticRegression(featuresCol='vectorizedFeatures',labelCol='subject_indexer')"
   ]
  },
  {
   "cell_type": "code",
   "execution_count": 195,
   "metadata": {},
   "outputs": [],
   "source": [
    "from pyspark.ml import Pipeline\n",
    "pipeline = Pipeline(stages=[tokenizer,stopwords_remover,vectorizer,idf,lr])"
   ]
  },
  {
   "cell_type": "code",
   "execution_count": 196,
   "metadata": {},
   "outputs": [
    {
     "data": {
      "text/plain": [
       "Pipeline_b2d03833a6f5"
      ]
     },
     "execution_count": 196,
     "metadata": {},
     "output_type": "execute_result"
    }
   ],
   "source": [
    "pipeline"
   ]
  },
  {
   "cell_type": "code",
   "execution_count": 197,
   "metadata": {},
   "outputs": [],
   "source": [
    "lr_model = pipeline.fit(train)"
   ]
  },
  {
   "cell_type": "code",
   "execution_count": 198,
   "metadata": {},
   "outputs": [
    {
     "data": {
      "text/plain": [
       "PipelineModel_f90ef7284b23"
      ]
     },
     "execution_count": 198,
     "metadata": {},
     "output_type": "execute_result"
    }
   ],
   "source": [
    "lr_model"
   ]
  },
  {
   "cell_type": "code",
   "execution_count": 199,
   "metadata": {},
   "outputs": [],
   "source": [
    "predictions = lr_model.transform(test)"
   ]
  },
  {
   "cell_type": "code",
   "execution_count": 200,
   "metadata": {},
   "outputs": [
    {
     "name": "stdout",
     "output_type": "stream",
     "text": [
      "+--------------------+-------------+----------------+---------------+--------------------+--------------------+--------------------+--------------------+--------------------+--------------------+----------+\n",
      "|        course_title|level_indexer|         subject|subject_indexer|            mytokens|     filtered_tokens|         rawFeatures|  vectorizedFeatures|       rawPrediction|         probability|prediction|\n",
      "+--------------------+-------------+----------------+---------------+--------------------+--------------------+--------------------+--------------------+--------------------+--------------------+----------+\n",
      "|61% Profit In 1 M...|          0.0|Business Finance|            1.0|[61%, profit, in,...|[61%, profit, 1, ...|(3682,[0,2,13,51,...|(3682,[0,2,13,51,...|[-9.2520428010111...|[6.86676525311218...|       1.0|\n",
      "|A Beginner's Guid...|          2.0|Business Finance|            1.0|[a, beginner's, g...|[beginner's, guid...|(3682,[19,190,300...|(3682,[19,190,300...|[-0.2544439713107...|[5.49681358886423...|       1.0|\n",
      "|Accounting 2 Simp...|          1.0|Business Finance|            1.0|[accounting, 2, s...|[accounting, 2, s...|(3682,[30,34,483]...|(3682,[30,34,483]...|[-5.1052648270560...|[9.2548572566154E...|       1.0|\n",
      "|Accounting Is Eas...|          0.0|Business Finance|            1.0|[accounting, is, ...|[accounting, easy...|(3682,[30,42,778,...|(3682,[30,42,778,...|[-2.0513426810885...|[2.17185062630669...|       1.0|\n",
      "|Basic Excel for B...|          1.0|Business Finance|            1.0|[basic, excel, fo...|[basic, excel, ba...|(3682,[30,83,127,...|(3682,[30,83,127,...|[-10.668859312032...|[4.68514610602458...|       1.0|\n",
      "|Basic Technical A...|          1.0|Business Finance|            1.0|[basic, technical...|[basic, technical...|(3682,[1,60,83,10...|(3682,[1,60,83,10...|[-7.3044190717962...|[1.27563405097219...|       1.0|\n",
      "|Beginner to Pro i...|          0.0|Business Finance|            1.0|[beginner, to, pr...|[beginner, pro, p...|(3682,[8,21,73,80...|(3682,[8,21,73,80...|[-5.7397511727084...|[8.94681142257639...|       3.0|\n",
      "|Binary Options Co...|          2.0|Business Finance|            1.0|[binary, options,...|[binary, options,...|(3682,[0,7,27,34,...|(3682,[0,7,27,34,...|[-6.8698640630795...|[1.16270903934974...|       1.0|\n",
      "|Binary Options: T...|          1.0|Business Finance|            1.0|[binary, options:...|[binary, options:...|(3682,[2,260,1299...|(3682,[2,260,1299...|[-18.067147239084...|[3.13866618259951...|       1.0|\n",
      "|Build a DCF Valua...|          0.0|Business Finance|            1.0|[build, a, dcf, v...|[build, dcf, valu...|(3682,[12,217,290...|(3682,[12,217,290...|[-1.2131542735396...|[2.28077198012728...|       1.0|\n",
      "|Building Financia...|          1.0|Business Finance|            1.0|[building, financ...|[building, financ...|(3682,[14,47,154,...|(3682,[14,47,154,...|[-7.3426615713173...|[6.01543470077964...|       1.0|\n",
      "|CREDIT SPREAD SUR...|          2.0|Business Finance|            1.0|[credit, spread, ...|[credit, spread, ...|(3682,[0,179,447,...|(3682,[0,179,447,...|[-8.6654096447658...|[8.03712082950020...|       1.0|\n",
      "|Comprehensive For...|          0.0|Business Finance|            1.0|[comprehensive, f...|[comprehensive, f...|(3682,[13,241,275...|(3682,[13,241,275...|[-0.9527135273263...|[2.81914069569505...|       1.0|\n",
      "|Comprehensive Gui...|          1.0|Business Finance|            1.0|[comprehensive, g...|[comprehensive, g...|(3682,[14,19,77,2...|(3682,[14,19,77,2...|[-3.3232408442613...|[3.18445719452012...|       1.0|\n",
      "|Corporate Finance...|          1.0|Business Finance|            1.0|[corporate, finan...|[corporate, finan...|(3682,[0,31,82,29...|(3682,[0,31,82,29...|[-5.2238752256326...|[5.81005349382461...|       1.0|\n",
      "|Create A Business...|          0.0|Business Finance|            1.0|[create, a, busin...|[create, business...|(3682,[2,10,62,64...|(3682,[2,10,62,64...|[-4.5981400476359...|[1.13242519736845...|       1.0|\n",
      "|Create Your Own H...|          2.0|Business Finance|            1.0|[create, your, ow...|[create, hedge, f...|(3682,[10,38,64,1...|(3682,[10,38,64,1...|[-7.6283776342762...|[7.64913137367372...|       1.0|\n",
      "|CryptoArbitrager:...|          0.0|Business Finance|            1.0|[cryptoarbitrager...|[cryptoarbitrager...|(3682,[2,123,208,...|(3682,[2,123,208,...|[-15.552870287427...|[3.42846300041341...|       1.0|\n",
      "|Elite Trend Trade...|          0.0|Business Finance|            1.0|[elite, trend, tr...|[elite, trend, tr...|(3682,[1,4,13,27,...|(3682,[1,4,13,27,...|[-14.461193678317...|[1.76578876508345...|       1.0|\n",
      "|Elliott Wave -For...|          3.0|Business Finance|            1.0|[elliott, wave, -...|[elliott, wave, -...|(3682,[2,210,639,...|(3682,[2,210,639,...|[-10.335358483899...|[1.02077282783202...|       1.0|\n",
      "|Excel functions t...|          2.0|Business Finance|            1.0|[excel, functions...|[excel, functions...|(3682,[164,433,55...|(3682,[164,433,55...|[-4.4223529248622...|[9.40737277982462...|       1.0|\n",
      "|Financial Model B...|          1.0|Business Finance|            1.0|[financial, model...|[financial, model...|(3682,[12,14,81,2...|(3682,[12,14,81,2...|[-1.6328893534600...|[2.84882424874499...|       1.0|\n",
      "|Financial Modelin...|          1.0|Business Finance|            1.0|[financial, model...|[financial, model...|(3682,[4,14,128,3...|(3682,[4,14,128,3...|[-10.876853281440...|[1.36785584151124...|       1.0|\n",
      "|Forex MetaTrader ...|          1.0|Business Finance|            1.0|[forex, metatrade...|[forex, metatrade...|(3682,[13,32,73,1...|(3682,[13,32,73,1...|[-13.689193524757...|[1.14080903715526...|       1.0|\n",
      "|Forex Robots: Exp...|          0.0|Business Finance|            1.0|[forex, robots:, ...|[forex, robots:, ...|(3682,[13,208,411...|(3682,[13,208,411...|[-7.6425648910265...|[4.23111512004957...|       1.0|\n",
      "|Forex Traders - C...|          0.0|Business Finance|            1.0|[forex, traders, ...|[forex, traders, ...|(3682,[0,2,10,13,...|(3682,[0,2,10,13,...|[-3.8573177884264...|[1.71725716391753...|       1.0|\n",
      "|Forex Trading Cou...|          0.0|Business Finance|            1.0|[forex, trading, ...|[forex, trading, ...|(3682,[2,13,88,58...|(3682,[2,13,88,58...|[-6.6430131105131...|[5.30013934870322...|       1.0|\n",
      "|Hedge and Mutual ...|          0.0|Business Finance|            1.0|[hedge, and, mutu...|[hedge, mutual, f...|(3682,[8,19,291,3...|(3682,[8,19,291,3...|[-1.1036797915776...|[2.44637810253471...|       1.0|\n",
      "|How To Invest Wit...|          1.0|Business Finance|            1.0|[how, to, invest,...|[invest, tiny, ca...|(3682,[64,226,299...|(3682,[64,226,299...|[-9.0295298549757...|[5.16430569118313...|       1.0|\n",
      "|How To Maximize Y...|          2.0|Business Finance|            1.0|[how, to, maximiz...|[maximize, profit...|(3682,[2,27,324],...|(3682,[2,27,324],...|[-6.8915471724449...|[7.18396163973882...|       1.0|\n",
      "|How to Pick The R...|          0.0|Business Finance|            1.0|[how, to, pick, t...|[pick, right, pen...|(3682,[64,100,299...|(3682,[64,100,299...|[-8.5337893692055...|[1.69900954549867...|       1.0|\n",
      "|Introduction to B...|          1.0|Business Finance|            1.0|[introduction, to...|[introduction, bo...|(3682,[31,127],[1...|(3682,[31,127],[3...|[-6.3700852758209...|[3.86869001489948...|       1.0|\n",
      "|Introduction to F...|          1.0|Business Finance|            1.0|[introduction, to...|[introduction, fi...|(3682,[14,31,41,2...|(3682,[14,31,41,2...|[-5.5880886367115...|[3.79479196925065...|       1.0|\n",
      "|Introduction to b...|          1.0|Business Finance|            1.0|[introduction, to...|[introduction, bo...|(3682,[30,31,127]...|(3682,[30,31,127]...|[-11.601168931693...|[4.59522579587752...|       1.0|\n",
      "|Investing And Tra...|          1.0|Business Finance|            1.0|[investing, and, ...|[investing, tradi...|(3682,[2,68,77,10...|(3682,[2,68,77,10...|[-2.1208756478395...|[6.97456925992521...|       1.0|\n",
      "|Investment Bankin...|          0.0|Business Finance|            1.0|[investment, bank...|[investment, bank...|(3682,[170,377,37...|(3682,[170,377,37...|[-8.9756014215130...|[1.17144347844147...|       1.0|\n",
      "|Learn How To Succ...|          0.0|Business Finance|            1.0|[learn, how, to, ...|[learn, successfu...|(3682,[1,38,89,93...|(3682,[1,38,89,93...|[-9.7247444302782...|[8.78152372316851...|       1.0|\n",
      "|Learn to Trade Fo...|          0.0|Business Finance|            1.0|[learn, to, trade...|[learn, trade, fo...|(3682,[1,13,21,38...|(3682,[1,13,21,38...|[-3.9721038372519...|[1.00147030691239...|       1.0|\n",
      "|Learn to Trade fo...|          1.0|Business Finance|            1.0|[learn, to, trade...|[learn, trade, pr...|(3682,[1,38],[1.0...|(3682,[1,38],[2.0...|[-4.9125737754545...|[3.72915284345044...|       1.0|\n",
      "|Leasing - A Compr...|          0.0|Business Finance|            1.0|[leasing, -, a, c...|[leasing, -, comp...|(3682,[0,7,198,20...|(3682,[0,7,198,20...|[-2.7511620298648...|[4.10384854821192...|       1.0|\n",
      "+--------------------+-------------+----------------+---------------+--------------------+--------------------+--------------------+--------------------+--------------------+--------------------+----------+\n",
      "only showing top 40 rows\n",
      "\n"
     ]
    }
   ],
   "source": [
    "predictions.show(40)"
   ]
  }
 ],
 "metadata": {
  "kernelspec": {
   "display_name": "Python 3",
   "language": "python",
   "name": "python3"
  },
  "language_info": {
   "codemirror_mode": {
    "name": "ipython",
    "version": 3
   },
   "file_extension": ".py",
   "mimetype": "text/x-python",
   "name": "python",
   "nbconvert_exporter": "python",
   "pygments_lexer": "ipython3",
   "version": "3.12.3"
  }
 },
 "nbformat": 4,
 "nbformat_minor": 2
}
